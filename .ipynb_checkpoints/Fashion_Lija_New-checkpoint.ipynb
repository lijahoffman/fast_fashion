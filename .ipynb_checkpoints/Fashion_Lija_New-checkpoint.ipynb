{
 "cells": [
  {
   "cell_type": "code",
   "execution_count": 36,
   "id": "2d54cccf",
   "metadata": {},
   "outputs": [],
   "source": [
    "# Import dependencies\n",
    "# Load and read data file. Store as Pandas DataFrame\n",
    "# Get API\n",
    "from requests import get\n",
    "import matplotlib.pyplot as plt\n",
    "import pandas as pd\n",
    "import scipy.stats as st\n",
    "from api_keys import asos_key\n",
    "\n",
    "\n",
    "data_to_load = \"myntra_products_catalog.csv\"\n",
    "fashion_data = pd.read_csv(data_to_load)\n",
    "fashion_data\n",
    "\n",
    "\n",
    "url = \"https://asos2.p.rapidapi.com/v2/auto-complete\" \n",
    "\n",
    "headers = {\n",
    "    \"X-RapidAPI-Key\": asos_key,\n",
    "    \"X-RapidAPI-Host\": \"asos2.p.rapidapi.com\"\n",
    "}\n"
   ]
  },
  {
   "cell_type": "code",
   "execution_count": 3,
   "id": "45b232c0",
   "metadata": {},
   "outputs": [],
   "source": [
    "# Function that takes a search term, store, and country as input retunrs the number of results for each searach term\n",
    "def autocomplete_viz(search_term, store, country):\n",
    "\n",
    "    querystring = {\"q\": search_term, \"store\": store, \"country\": country}\n",
    "\n",
    "    autocomplete_response = get(url, headers=headers, params=querystring).json()\n",
    "    \n",
    "    suggestions = autocomplete_response[\"suggestionGroups\"][0][\"suggestions\"]\n",
    "    \n",
    "    search_terms, number_results = [], []\n",
    "    for suggestion in suggestions:\n",
    "        search_terms.append(suggestion[\"searchTerm\"])\n",
    "        number_results.append(suggestion[\"numberOfResults\"])\n",
    "    \n",
    "    return sum(number_results)\n"
   ]
  },
  {
   "cell_type": "code",
   "execution_count": 4,
   "id": "de366d63",
   "metadata": {},
   "outputs": [],
   "source": [
    "# Executing defined function for each color/location/store combination\n",
    "\n",
    "us_pink = autocomplete_viz(\"pink\", \"US\", \"US\")\n",
    "us_blue = autocomplete_viz(\"blue\", \"US\", \"US\")\n",
    "us_green = autocomplete_viz(\"green\", \"US\", \"US\")\n",
    "us_black = autocomplete_viz(\"black\", \"US\", \"US\")\n",
    "us_white = autocomplete_viz(\"white\", \"US\", \"US\")\n",
    "\n",
    "fr_pink = autocomplete_viz(\"rose\", \"FR\", \"FR\")\n",
    "fr_blue = autocomplete_viz(\"bleu\", \"FR\", \"FR\")\n",
    "fr_green = autocomplete_viz(\"verte\", \"FR\", \"FR\")\n",
    "fr_black = autocomplete_viz(\"noir\", \"FR\", \"FR\")\n",
    "fr_white = autocomplete_viz(\"blanc\", \"FR\", \"FR\")\n",
    "\n",
    "es_pink = autocomplete_viz(\"rosa\", \"ES\", \"ES\")\n",
    "es_blue = autocomplete_viz(\"azul\", \"ES\", \"ES\")\n",
    "es_green = autocomplete_viz(\"verde\", \"ES\", \"ES\")\n",
    "es_black = autocomplete_viz(\"negro\", \"ES\", \"ES\")\n",
    "es_white = autocomplete_viz(\"blanco\", \"ES\", \"ES\")\n",
    "\n",
    "de_pink = autocomplete_viz(\"rosa\", \"DE\", \"DE\")\n",
    "de_blue = autocomplete_viz(\"blau\", \"DE\", \"DE\")\n",
    "de_green = autocomplete_viz(\"grun\", \"DE\", \"DE\")\n",
    "de_black = autocomplete_viz(\"schwarz\", \"DE\", \"DE\")\n",
    "de_white = autocomplete_viz(\"weiß\", \"DE\", \"DE\")\n",
    "\n",
    "it_pink = autocomplete_viz(\"rosa\", \"IT\", \"IT\")\n",
    "it_blue = autocomplete_viz(\"blu\", \"IT\", \"IT\")\n",
    "it_green = autocomplete_viz(\"verde\", \"IT\", \"IT\")\n",
    "it_black = autocomplete_viz(\"nero\", \"IT\", \"IT\")\n",
    "it_white = autocomplete_viz(\"bianco\", \"IT\", \"IT\")\n",
    "\n",
    "au_pink = autocomplete_viz(\"pink\", \"AU\", \"AU\")\n",
    "au_blue = autocomplete_viz(\"blue\", \"AU\", \"AU\")\n",
    "au_green = autocomplete_viz(\"green\", \"AU\", \"AU\")\n",
    "au_black = autocomplete_viz(\"black\", \"AU\", \"AU\")\n",
    "au_white = autocomplete_viz(\"white\", \"AU\", \"AU\")"
   ]
  },
  {
   "cell_type": "code",
   "execution_count": 9,
   "id": "acdb055a",
   "metadata": {},
   "outputs": [
    {
     "data": {
      "text/html": [
       "<div>\n",
       "<style scoped>\n",
       "    .dataframe tbody tr th:only-of-type {\n",
       "        vertical-align: middle;\n",
       "    }\n",
       "\n",
       "    .dataframe tbody tr th {\n",
       "        vertical-align: top;\n",
       "    }\n",
       "\n",
       "    .dataframe thead th {\n",
       "        text-align: right;\n",
       "    }\n",
       "</style>\n",
       "<table border=\"1\" class=\"dataframe\">\n",
       "  <thead>\n",
       "    <tr style=\"text-align: right;\">\n",
       "      <th></th>\n",
       "      <th>Pink</th>\n",
       "      <th>Blue</th>\n",
       "      <th>Green</th>\n",
       "      <th>Black</th>\n",
       "      <th>White</th>\n",
       "    </tr>\n",
       "  </thead>\n",
       "  <tbody>\n",
       "    <tr>\n",
       "      <th>0</th>\n",
       "      <td>21620</td>\n",
       "      <td>19002</td>\n",
       "      <td>28927</td>\n",
       "      <td>15408</td>\n",
       "      <td>20357</td>\n",
       "    </tr>\n",
       "    <tr>\n",
       "      <th>1</th>\n",
       "      <td>29446</td>\n",
       "      <td>17101</td>\n",
       "      <td>13820</td>\n",
       "      <td>19494</td>\n",
       "      <td>19831</td>\n",
       "    </tr>\n",
       "    <tr>\n",
       "      <th>2</th>\n",
       "      <td>22867</td>\n",
       "      <td>7610</td>\n",
       "      <td>10264</td>\n",
       "      <td>16348</td>\n",
       "      <td>17133</td>\n",
       "    </tr>\n",
       "    <tr>\n",
       "      <th>3</th>\n",
       "      <td>14030</td>\n",
       "      <td>19548</td>\n",
       "      <td>17854</td>\n",
       "      <td>3992</td>\n",
       "      <td>1148</td>\n",
       "    </tr>\n",
       "    <tr>\n",
       "      <th>4</th>\n",
       "      <td>27766</td>\n",
       "      <td>32709</td>\n",
       "      <td>19359</td>\n",
       "      <td>16210</td>\n",
       "      <td>18987</td>\n",
       "    </tr>\n",
       "    <tr>\n",
       "      <th>5</th>\n",
       "      <td>16592</td>\n",
       "      <td>24527</td>\n",
       "      <td>14847</td>\n",
       "      <td>15438</td>\n",
       "      <td>13392</td>\n",
       "    </tr>\n",
       "  </tbody>\n",
       "</table>\n",
       "</div>"
      ],
      "text/plain": [
       "    Pink   Blue  Green  Black  White\n",
       "0  21620  19002  28927  15408  20357\n",
       "1  29446  17101  13820  19494  19831\n",
       "2  22867   7610  10264  16348  17133\n",
       "3  14030  19548  17854   3992   1148\n",
       "4  27766  32709  19359  16210  18987\n",
       "5  16592  24527  14847  15438  13392"
      ]
     },
     "execution_count": 9,
     "metadata": {},
     "output_type": "execute_result"
    }
   ],
   "source": [
    "colors_df = pd.DataFrame({\"Pink\":[us_pink, fr_pink, es_pink, de_pink, it_pink, au_pink], \"Blue\":[us_blue, fr_blue, es_blue, de_blue, it_blue, au_blue], \"Green\":[us_green, fr_green, es_green, de_green, it_green, au_green],\"Black\":[us_black, fr_black, es_black, de_black, it_black, au_black], \"White\":[us_white, fr_white, es_white, de_white, it_white, au_white],})\n",
    "colors_df"
   ]
  },
  {
   "cell_type": "code",
   "execution_count": null,
   "id": "7242c9b6",
   "metadata": {},
   "outputs": [],
   "source": []
  },
  {
   "cell_type": "code",
   "execution_count": 11,
   "id": "51fd0f6e",
   "metadata": {},
   "outputs": [],
   "source": [
    "pink_mean = colors_df[\"Pink\"].mean()\n",
    "blue_mean = colors_df[\"Blue\"].mean()\n",
    "green_mean = colors_df[\"Green\"].mean()\n",
    "black_mean = colors_df[\"Black\"].mean()\n",
    "white_mean = colors_df[\"White\"].mean()"
   ]
  },
  {
   "cell_type": "code",
   "execution_count": 12,
   "id": "62bab287",
   "metadata": {},
   "outputs": [
    {
     "data": {
      "text/html": [
       "<div>\n",
       "<style scoped>\n",
       "    .dataframe tbody tr th:only-of-type {\n",
       "        vertical-align: middle;\n",
       "    }\n",
       "\n",
       "    .dataframe tbody tr th {\n",
       "        vertical-align: top;\n",
       "    }\n",
       "\n",
       "    .dataframe thead th {\n",
       "        text-align: right;\n",
       "    }\n",
       "</style>\n",
       "<table border=\"1\" class=\"dataframe\">\n",
       "  <thead>\n",
       "    <tr style=\"text-align: right;\">\n",
       "      <th></th>\n",
       "      <th>Pink</th>\n",
       "      <th>Blue</th>\n",
       "      <th>Green</th>\n",
       "      <th>Black</th>\n",
       "      <th>White</th>\n",
       "    </tr>\n",
       "  </thead>\n",
       "  <tbody>\n",
       "    <tr>\n",
       "      <th>mean</th>\n",
       "      <td>2.205350e+04</td>\n",
       "      <td>2.008283e+04</td>\n",
       "      <td>1.751183e+04</td>\n",
       "      <td>1.448167e+04</td>\n",
       "      <td>1.514133e+04</td>\n",
       "    </tr>\n",
       "    <tr>\n",
       "      <th>median</th>\n",
       "      <td>2.224350e+04</td>\n",
       "      <td>1.927500e+04</td>\n",
       "      <td>1.635050e+04</td>\n",
       "      <td>1.582400e+04</td>\n",
       "      <td>1.806000e+04</td>\n",
       "    </tr>\n",
       "    <tr>\n",
       "      <th>var</th>\n",
       "      <td>3.646719e+07</td>\n",
       "      <td>6.901757e+07</td>\n",
       "      <td>4.141944e+07</td>\n",
       "      <td>2.867992e+07</td>\n",
       "      <td>5.336512e+07</td>\n",
       "    </tr>\n",
       "    <tr>\n",
       "      <th>std</th>\n",
       "      <td>6.038807e+03</td>\n",
       "      <td>8.307681e+03</td>\n",
       "      <td>6.435794e+03</td>\n",
       "      <td>5.355364e+03</td>\n",
       "      <td>7.305143e+03</td>\n",
       "    </tr>\n",
       "    <tr>\n",
       "      <th>sem</th>\n",
       "      <td>2.465333e+03</td>\n",
       "      <td>3.391597e+03</td>\n",
       "      <td>2.627402e+03</td>\n",
       "      <td>2.186318e+03</td>\n",
       "      <td>2.982312e+03</td>\n",
       "    </tr>\n",
       "  </tbody>\n",
       "</table>\n",
       "</div>"
      ],
      "text/plain": [
       "                Pink          Blue         Green         Black         White\n",
       "mean    2.205350e+04  2.008283e+04  1.751183e+04  1.448167e+04  1.514133e+04\n",
       "median  2.224350e+04  1.927500e+04  1.635050e+04  1.582400e+04  1.806000e+04\n",
       "var     3.646719e+07  6.901757e+07  4.141944e+07  2.867992e+07  5.336512e+07\n",
       "std     6.038807e+03  8.307681e+03  6.435794e+03  5.355364e+03  7.305143e+03\n",
       "sem     2.465333e+03  3.391597e+03  2.627402e+03  2.186318e+03  2.982312e+03"
      ]
     },
     "execution_count": 12,
     "metadata": {},
     "output_type": "execute_result"
    }
   ],
   "source": [
    "colors_agg = colors_df.agg([\"mean\", \"median\", \"var\", \"std\", \"sem\"])\n",
    "colors_agg"
   ]
  },
  {
   "cell_type": "code",
   "execution_count": 13,
   "id": "4a43f355",
   "metadata": {},
   "outputs": [
    {
     "data": {
      "text/plain": [
       "(0.0, 35000.0)"
      ]
     },
     "execution_count": 13,
     "metadata": {},
     "output_type": "execute_result"
    },
    {
     "data": {
      "image/png": "[encoded data removed]",
      "text/plain": [
       "<Figure size 640x480 with 1 Axes>"
      ]
     },
     "metadata": {},
     "output_type": "display_data"
    }
   ],
   "source": [
    "# Plotting the number of results per country for the trend color pink\n",
    "country = [\"United States\", \"France\", \"Spain\", \"Germany\", \"Italy\",\"Australia\"]\n",
    "results = [us_pink, fr_pink, es_pink, de_pink, it_pink, au_pink]\n",
    "plt.barh(country, results, color = \"pink\")\n",
    "plt.title(\"Search Results for Pink\")\n",
    "plt.xlabel(\"Results\")\n",
    "plt.ylabel(\"Country\")\n",
    "plt.xlim(0, 35000)"
   ]
  },
  {
   "cell_type": "code",
   "execution_count": 14,
   "id": "9f394597",
   "metadata": {},
   "outputs": [
    {
     "data": {
      "text/plain": [
       "(0.0, 35000.0)"
      ]
     },
     "execution_count": 14,
     "metadata": {},
     "output_type": "execute_result"
    },
    {
     "data": {
      "image/png": "[encoded data removed]",
      "text/plain": [
       "<Figure size 640x480 with 1 Axes>"
      ]
     },
     "metadata": {},
     "output_type": "display_data"
    }
   ],
   "source": [
    "# Plotting the number of results per country for the trend color blue\n",
    "country = [\"United States\", \"France\", \"Spain\", \"Germany\", \"Italy\",\"Australia\"]\n",
    "results = [us_blue, fr_blue, es_blue, de_blue, it_blue, au_blue]\n",
    "plt.barh(country, results)\n",
    "plt.title(\"Search Results for Blue\")\n",
    "plt.xlabel(\"Results\")\n",
    "plt.ylabel(\"Country\")\n",
    "plt.xlim(0, 35000)"
   ]
  },
  {
   "cell_type": "code",
   "execution_count": 15,
   "id": "ffff9ce5",
   "metadata": {},
   "outputs": [
    {
     "data": {
      "text/plain": [
       "(0.0, 35000.0)"
      ]
     },
     "execution_count": 15,
     "metadata": {},
     "output_type": "execute_result"
    },
    {
     "data": {
      "image/png": "[encoded data removed]",
      "text/plain": [
       "<Figure size 640x480 with 1 Axes>"
      ]
     },
     "metadata": {},
     "output_type": "display_data"
    }
   ],
   "source": [
    "# Plotting the number of results per country for the trend color green\n",
    "country = [\"United States\", \"France\", \"Spain\", \"Germany\", \"Italy\",\"Australia\"]\n",
    "results = [us_green, fr_green, es_green, de_green, it_green, au_green]\n",
    "plt.barh(country, results, color = \"g\")\n",
    "plt.title(\"Search Results for Green\")\n",
    "plt.xlabel(\"Results\")\n",
    "plt.ylabel(\"Country\")\n",
    "plt.xlim(0, 35000)"
   ]
  },
  {
   "cell_type": "code",
   "execution_count": 16,
   "id": "5fb42d03",
   "metadata": {},
   "outputs": [
    {
     "data": {
      "text/plain": [
       "Text(0, 0.5, 'Number of Results')"
      ]
     },
     "execution_count": 16,
     "metadata": {},
     "output_type": "execute_result"
    },
    {
     "data": {
      "image/png": "[encoded data removed]",
      "text/plain": [
       "<Figure size 640x480 with 1 Axes>"
      ]
     },
     "metadata": {},
     "output_type": "display_data"
    }
   ],
   "source": [
    "# Plotting the average number of results for each color\n",
    "colors = [\"Blue\", \"Black\", \"Green\", \"White\", \"Pink\"]\n",
    "results = [blue_mean, black_mean, green_mean, white_mean, pink_mean]\n",
    "plt.bar(colors, results)\n",
    "plt.title(\"ASOS: Average Number of Search Results By Color\")\n",
    "plt.xlabel(\"Color\")\n",
    "plt.ylabel(\"Number of Results\")"
   ]
  },
  {
   "cell_type": "code",
   "execution_count": null,
   "id": "f6296a22",
   "metadata": {},
   "outputs": [],
   "source": []
  },
  {
   "cell_type": "code",
   "execution_count": null,
   "id": "b165c760",
   "metadata": {},
   "outputs": [],
   "source": []
  },
  {
   "cell_type": "code",
   "execution_count": 17,
   "id": "ffa0cc82",
   "metadata": {},
   "outputs": [
    {
     "data": {
      "text/html": [
       "<div>\n",
       "<style scoped>\n",
       "    .dataframe tbody tr th:only-of-type {\n",
       "        vertical-align: middle;\n",
       "    }\n",
       "\n",
       "    .dataframe tbody tr th {\n",
       "        vertical-align: top;\n",
       "    }\n",
       "\n",
       "    .dataframe thead th {\n",
       "        text-align: right;\n",
       "    }\n",
       "</style>\n",
       "<table border=\"1\" class=\"dataframe\">\n",
       "  <thead>\n",
       "    <tr style=\"text-align: right;\">\n",
       "      <th></th>\n",
       "      <th>ProductID</th>\n",
       "      <th>PrimaryColor</th>\n",
       "    </tr>\n",
       "  </thead>\n",
       "  <tbody>\n",
       "    <tr>\n",
       "      <th>0</th>\n",
       "      <td>10017413</td>\n",
       "      <td>Black</td>\n",
       "    </tr>\n",
       "    <tr>\n",
       "      <th>2</th>\n",
       "      <td>10009781</td>\n",
       "      <td>Pink</td>\n",
       "    </tr>\n",
       "    <tr>\n",
       "      <th>3</th>\n",
       "      <td>10015921</td>\n",
       "      <td>Blue</td>\n",
       "    </tr>\n",
       "    <tr>\n",
       "      <th>4</th>\n",
       "      <td>10017833</td>\n",
       "      <td>White</td>\n",
       "    </tr>\n",
       "    <tr>\n",
       "      <th>6</th>\n",
       "      <td>10017869</td>\n",
       "      <td>Blue</td>\n",
       "    </tr>\n",
       "    <tr>\n",
       "      <th>...</th>\n",
       "      <td>...</td>\n",
       "      <td>...</td>\n",
       "    </tr>\n",
       "    <tr>\n",
       "      <th>12482</th>\n",
       "      <td>10261845</td>\n",
       "      <td>Green</td>\n",
       "    </tr>\n",
       "    <tr>\n",
       "      <th>12484</th>\n",
       "      <td>10265177</td>\n",
       "      <td>Blue</td>\n",
       "    </tr>\n",
       "    <tr>\n",
       "      <th>12486</th>\n",
       "      <td>10262843</td>\n",
       "      <td>Black</td>\n",
       "    </tr>\n",
       "    <tr>\n",
       "      <th>12488</th>\n",
       "      <td>10261607</td>\n",
       "      <td>Blue</td>\n",
       "    </tr>\n",
       "    <tr>\n",
       "      <th>12490</th>\n",
       "      <td>10265199</td>\n",
       "      <td>Black</td>\n",
       "    </tr>\n",
       "  </tbody>\n",
       "</table>\n",
       "<p>7262 rows × 2 columns</p>\n",
       "</div>"
      ],
      "text/plain": [
       "       ProductID PrimaryColor\n",
       "0       10017413        Black\n",
       "2       10009781         Pink\n",
       "3       10015921         Blue\n",
       "4       10017833        White\n",
       "6       10017869         Blue\n",
       "...          ...          ...\n",
       "12482   10261845        Green\n",
       "12484   10265177         Blue\n",
       "12486   10262843        Black\n",
       "12488   10261607         Blue\n",
       "12490   10265199        Black\n",
       "\n",
       "[7262 rows x 2 columns]"
      ]
     },
     "execution_count": 17,
     "metadata": {},
     "output_type": "execute_result"
    }
   ],
   "source": [
    "# Create a Data Frame that is a subset of the origin DataFrame, containing only colors of interest\n",
    "of_interest_scratch = fashion_data[(fashion_data[\"PrimaryColor\"].isin([\" Pink\", \"Blue\", \" Green\", \" Black\", \" White\"]))]\n",
    "of_interest = of_interest_scratch.loc[:,[\"ProductID\", \"PrimaryColor\"]]\n",
    "of_interest"
   ]
  },
  {
   "cell_type": "code",
   "execution_count": 18,
   "id": "166087e8",
   "metadata": {},
   "outputs": [
    {
     "data": {
      "text/html": [
       "<div>\n",
       "<style scoped>\n",
       "    .dataframe tbody tr th:only-of-type {\n",
       "        vertical-align: middle;\n",
       "    }\n",
       "\n",
       "    .dataframe tbody tr th {\n",
       "        vertical-align: top;\n",
       "    }\n",
       "\n",
       "    .dataframe thead tr th {\n",
       "        text-align: left;\n",
       "    }\n",
       "\n",
       "    .dataframe thead tr:last-of-type th {\n",
       "        text-align: right;\n",
       "    }\n",
       "</style>\n",
       "<table border=\"1\" class=\"dataframe\">\n",
       "  <thead>\n",
       "    <tr>\n",
       "      <th></th>\n",
       "      <th colspan=\"5\" halign=\"left\">ProductID</th>\n",
       "    </tr>\n",
       "    <tr>\n",
       "      <th></th>\n",
       "      <th>mean</th>\n",
       "      <th>median</th>\n",
       "      <th>var</th>\n",
       "      <th>std</th>\n",
       "      <th>sem</th>\n",
       "    </tr>\n",
       "    <tr>\n",
       "      <th>PrimaryColor</th>\n",
       "      <th></th>\n",
       "      <th></th>\n",
       "      <th></th>\n",
       "      <th></th>\n",
       "      <th></th>\n",
       "    </tr>\n",
       "  </thead>\n",
       "  <tbody>\n",
       "    <tr>\n",
       "      <th>Black</th>\n",
       "      <td>9.911748e+06</td>\n",
       "      <td>10158165.0</td>\n",
       "      <td>2.162341e+12</td>\n",
       "      <td>1.470490e+06</td>\n",
       "      <td>36311.167822</td>\n",
       "    </tr>\n",
       "    <tr>\n",
       "      <th>Green</th>\n",
       "      <td>1.001413e+07</td>\n",
       "      <td>10158951.0</td>\n",
       "      <td>1.276297e+12</td>\n",
       "      <td>1.129733e+06</td>\n",
       "      <td>37491.506375</td>\n",
       "    </tr>\n",
       "    <tr>\n",
       "      <th>Pink</th>\n",
       "      <td>1.009350e+07</td>\n",
       "      <td>10155715.0</td>\n",
       "      <td>4.318845e+11</td>\n",
       "      <td>6.571792e+05</td>\n",
       "      <td>33234.978819</td>\n",
       "    </tr>\n",
       "    <tr>\n",
       "      <th>White</th>\n",
       "      <td>9.906012e+06</td>\n",
       "      <td>10143877.0</td>\n",
       "      <td>2.131530e+12</td>\n",
       "      <td>1.459976e+06</td>\n",
       "      <td>49215.785107</td>\n",
       "    </tr>\n",
       "    <tr>\n",
       "      <th>Blue</th>\n",
       "      <td>1.005093e+07</td>\n",
       "      <td>10157261.0</td>\n",
       "      <td>9.236371e+11</td>\n",
       "      <td>9.610604e+05</td>\n",
       "      <td>16378.803357</td>\n",
       "    </tr>\n",
       "  </tbody>\n",
       "</table>\n",
       "</div>"
      ],
      "text/plain": [
       "                 ProductID                                          \\\n",
       "                      mean      median           var           std   \n",
       "PrimaryColor                                                         \n",
       " Black        9.911748e+06  10158165.0  2.162341e+12  1.470490e+06   \n",
       " Green        1.001413e+07  10158951.0  1.276297e+12  1.129733e+06   \n",
       " Pink         1.009350e+07  10155715.0  4.318845e+11  6.571792e+05   \n",
       " White        9.906012e+06  10143877.0  2.131530e+12  1.459976e+06   \n",
       "Blue          1.005093e+07  10157261.0  9.236371e+11  9.610604e+05   \n",
       "\n",
       "                            \n",
       "                       sem  \n",
       "PrimaryColor                \n",
       " Black        36311.167822  \n",
       " Green        37491.506375  \n",
       " Pink         33234.978819  \n",
       " White        49215.785107  \n",
       "Blue          16378.803357  "
      ]
     },
     "execution_count": 18,
     "metadata": {},
     "output_type": "execute_result"
    }
   ],
   "source": [
    "csv_color_grouped = of_interest.groupby([\"PrimaryColor\"])\n",
    "csv_colors_agg = csv_color_grouped.agg([\"mean\", \"median\", \"var\", \"std\", \"sem\"])\n",
    "csv_colors_agg"
   ]
  },
  {
   "cell_type": "code",
   "execution_count": 19,
   "id": "cf78db4c",
   "metadata": {},
   "outputs": [
    {
     "data": {
      "text/html": [
       "<div>\n",
       "<style scoped>\n",
       "    .dataframe tbody tr th:only-of-type {\n",
       "        vertical-align: middle;\n",
       "    }\n",
       "\n",
       "    .dataframe tbody tr th {\n",
       "        vertical-align: top;\n",
       "    }\n",
       "\n",
       "    .dataframe thead th {\n",
       "        text-align: right;\n",
       "    }\n",
       "</style>\n",
       "<table border=\"1\" class=\"dataframe\">\n",
       "  <thead>\n",
       "    <tr style=\"text-align: right;\">\n",
       "      <th></th>\n",
       "      <th>ProductID</th>\n",
       "    </tr>\n",
       "    <tr>\n",
       "      <th>PrimaryColor</th>\n",
       "      <th></th>\n",
       "    </tr>\n",
       "  </thead>\n",
       "  <tbody>\n",
       "    <tr>\n",
       "      <th>Black</th>\n",
       "      <td>1640</td>\n",
       "    </tr>\n",
       "    <tr>\n",
       "      <th>Green</th>\n",
       "      <td>908</td>\n",
       "    </tr>\n",
       "    <tr>\n",
       "      <th>Pink</th>\n",
       "      <td>391</td>\n",
       "    </tr>\n",
       "    <tr>\n",
       "      <th>White</th>\n",
       "      <td>880</td>\n",
       "    </tr>\n",
       "    <tr>\n",
       "      <th>Blue</th>\n",
       "      <td>3443</td>\n",
       "    </tr>\n",
       "  </tbody>\n",
       "</table>\n",
       "</div>"
      ],
      "text/plain": [
       "              ProductID\n",
       "PrimaryColor           \n",
       " Black             1640\n",
       " Green              908\n",
       " Pink               391\n",
       " White              880\n",
       "Blue               3443"
      ]
     },
     "execution_count": 19,
     "metadata": {},
     "output_type": "execute_result"
    }
   ],
   "source": [
    "# Group DataFrame by color and get the number of each color type using .count()\n",
    "csv_color_count = csv_color_grouped.count()\n",
    "csv_color_count"
   ]
  },
  {
   "cell_type": "code",
   "execution_count": 20,
   "id": "563253c6",
   "metadata": {},
   "outputs": [
    {
     "data": {
      "image/png": "[encoded data removed]",
      "text/plain": [
       "<Figure size 600x600 with 1 Axes>"
      ]
     },
     "metadata": {},
     "output_type": "display_data"
    }
   ],
   "source": [
    "# Plot results\n",
    "csv_color_sorted = csv_color_count.sort_values(\"ProductID\", ascending = False)\n",
    "csv_color_graph = csv_color_sorted.plot(kind=\"bar\", y=\"ProductID\", grid=False, figsize=(6,6), xlabel = \"Color\", ylabel = \"Number of Items\",title=\"Myntra: Color vs Number of Items\", legend = False)"
   ]
  },
  {
   "cell_type": "code",
   "execution_count": null,
   "id": "4510be69",
   "metadata": {},
   "outputs": [],
   "source": []
  },
  {
   "cell_type": "code",
   "execution_count": 29,
   "id": "ec6b71e3",
   "metadata": {},
   "outputs": [],
   "source": [
    "\n",
    "myntra_pink = int((of_interest[\"PrimaryColor\"] == \" Pink\").sum())\n",
    "myntra_blue = int((of_interest[\"PrimaryColor\"] == \"Blue\").sum())\n",
    "myntra_green = int((of_interest[\"PrimaryColor\"] == \" Green\").sum())\n",
    "myntra_black = int((of_interest[\"PrimaryColor\"] == \" Black\").sum())\n",
    "myntra_white = int((of_interest[\"PrimaryColor\"] == \" White\").sum())\n",
    "\n",
    "myntra_total = myntra_pink + myntra_blue + myntra_green + myntra_black + myntra_white"
   ]
  },
  {
   "cell_type": "code",
   "execution_count": 46,
   "id": "d49e41ae",
   "metadata": {},
   "outputs": [
    {
     "data": {
      "text/plain": [
       "0.0538419168273203"
      ]
     },
     "execution_count": 46,
     "metadata": {},
     "output_type": "execute_result"
    }
   ],
   "source": [
    "myntra_pink_prop = myntra_pink/myntra_total\n",
    "myntra_blue_prop = myntra_blue/myntra_total\n",
    "myntra_green_prop = myntra_green/myntra_total\n",
    "myntra_black_prop = myntra_black/myntra_total\n",
    "myntra_white_prop = myntra_white/myntra_total\n",
    "\n",
    "myntra_pink_prop"
   ]
  },
  {
   "cell_type": "code",
   "execution_count": 33,
   "id": "3fbc0dd8",
   "metadata": {},
   "outputs": [
    {
     "data": {
      "text/plain": [
       "535627"
      ]
     },
     "execution_count": 33,
     "metadata": {},
     "output_type": "execute_result"
    }
   ],
   "source": [
    "asos_pink = int(colors_df[\"Pink\"].sum())\n",
    "asos_blue = int(colors_df[\"Blue\"].sum())\n",
    "asos_green = int(colors_df[\"Green\"].sum())\n",
    "asos_black = int(colors_df[\"Black\"].sum())\n",
    "asos_white = int(colors_df[\"White\"].sum())\n",
    "\n",
    "asos_total = asos_pink + asos_blue + asos_green + asos_black + asos_white"
   ]
  },
  {
   "cell_type": "code",
   "execution_count": 45,
   "id": "622e1410",
   "metadata": {},
   "outputs": [
    {
     "data": {
      "text/plain": [
       "0.24703945096120994"
      ]
     },
     "execution_count": 45,
     "metadata": {},
     "output_type": "execute_result"
    }
   ],
   "source": [
    "asos_pink_prop = asos_pink/asos_total\n",
    "asos_blue_prop = asos_blue/asos_total\n",
    "asos_green_prop = asos_green/asos_total\n",
    "asos_black_prop = asos_black/asos_total\n",
    "asos_white_prop = asos_white/asos_total\n",
    "\n",
    "asos_pink_prop"
   ]
  },
  {
   "cell_type": "code",
   "execution_count": 50,
   "id": "11340e44",
   "metadata": {},
   "outputs": [],
   "source": [
    "\n",
    "pink_expected = (myntra_pink_prop * asos_total)\n",
    "blue_expected = (myntra_blue_prop * asos_total)\n",
    "green_expected = (myntra_green_prop * asos_total)\n",
    "black_expected = (myntra_black_prop * asos_total)\n",
    "white_expected = (myntra_white_prop * asos_total)"
   ]
  },
  {
   "cell_type": "code",
   "execution_count": null,
   "id": "c80e069c",
   "metadata": {},
   "outputs": [],
   "source": []
  },
  {
   "cell_type": "code",
   "execution_count": 51,
   "id": "95635699",
   "metadata": {},
   "outputs": [
    {
     "data": {
      "text/plain": [
       "Power_divergenceResult(statistic=483085.19216767093, pvalue=0.0)"
      ]
     },
     "execution_count": 51,
     "metadata": {},
     "output_type": "execute_result"
    }
   ],
   "source": [
    "sig = st.chisquare([asos_pink, asos_blue, asos_green, asos_black, asos_white], f_exp=[pink_expected, blue_expected, green_expected, black_expected, white_expected])\n",
    "sig\n",
    "\n"
   ]
  },
  {
   "cell_type": "code",
   "execution_count": null,
   "id": "a5404110",
   "metadata": {},
   "outputs": [],
   "source": []
  }
 ],
 "metadata": {
  "kernelspec": {
   "display_name": "Python 3 (ipykernel)",
   "language": "python",
   "name": "python3"
  },
  "language_info": {
   "codemirror_mode": {
    "name": "ipython",
    "version": 3
   },
   "file_extension": ".py",
   "mimetype": "text/x-python",
   "name": "python",
   "nbconvert_exporter": "python",
   "pygments_lexer": "ipython3",
   "version": "3.10.4"
  }
 },
 "nbformat": 4,
 "nbformat_minor": 5
}
