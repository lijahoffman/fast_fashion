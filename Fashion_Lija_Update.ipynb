{
 "cells": [
  {
   "cell_type": "code",
   "execution_count": 25,
   "id": "2d54cccf",
   "metadata": {},
   "outputs": [],
   "source": [
    "# Import dependencies\n",
    "# Load and read data file. Store as Pandas DataFrame\n",
    "# Get API\n",
    "from requests import get\n",
    "import matplotlib.pyplot as plt\n",
    "import pandas as pd\n",
    "import scipy.stats as st\n",
    "\n",
    "\n",
    "data_to_load = \"myntra_products_catalog.csv\"\n",
    "fashion_data = pd.read_csv(data_to_load)\n",
    "fashion_data\n",
    "\n",
    "\n",
    "url = \"https://asos2.p.rapidapi.com/v2/auto-complete\" \n",
    "\n",
    "headers = {\n",
    "    \"X-RapidAPI-Key\": \"API KEY\",\n",
    "    \"X-RapidAPI-Host\": \"asos2.p.rapidapi.com\"\n",
    "}\n"
   ]
  },
  {
   "cell_type": "code",
   "execution_count": null,
   "id": "b4da9bc6",
   "metadata": {},
   "outputs": [],
   "source": []
  },
  {
   "cell_type": "markdown",
   "id": "d8701c05",
   "metadata": {},
   "source": [
    "Data Extraction and Cleaning"
   ]
  },
  {
   "cell_type": "code",
   "execution_count": null,
   "id": "09bda3ea",
   "metadata": {},
   "outputs": [],
   "source": [
    "# ASOS EXTRACTION/CLEANING"
   ]
  },
  {
   "cell_type": "code",
   "execution_count": 26,
   "id": "45b232c0",
   "metadata": {},
   "outputs": [],
   "source": [
    "# Function that takes a search term, store, and country as input retunrs the number of results for each searach term\n",
    "def autocomplete_viz(search_term, store, country):\n",
    "\n",
    "    querystring = {\"q\": search_term, \"store\": store, \"country\": country}\n",
    "\n",
    "    autocomplete_response = get(url, headers=headers, params=querystring).json()\n",
    "    \n",
    "    suggestions = autocomplete_response[\"suggestionGroups\"][0][\"suggestions\"]\n",
    "    \n",
    "    search_terms, number_results = [], []\n",
    "    for suggestion in suggestions:\n",
    "        search_terms.append(suggestion[\"searchTerm\"])\n",
    "        number_results.append(suggestion[\"numberOfResults\"])\n",
    "    \n",
    "    return sum(number_results)\n"
   ]
  },
  {
   "cell_type": "code",
   "execution_count": 27,
   "id": "de366d63",
   "metadata": {},
   "outputs": [],
   "source": [
    "# Executing defined function for each color/location/store combination\n",
    "\n",
    "us_pink = autocomplete_viz(\"pink\", \"US\", \"US\")\n",
    "us_blue = autocomplete_viz(\"blue\", \"US\", \"US\")\n",
    "us_green = autocomplete_viz(\"green\", \"US\", \"US\")\n",
    "us_black = autocomplete_viz(\"black\", \"US\", \"US\")\n",
    "us_white = autocomplete_viz(\"white\", \"US\", \"US\")\n",
    "\n",
    "fr_pink = autocomplete_viz(\"rose\", \"FR\", \"FR\")\n",
    "fr_blue = autocomplete_viz(\"bleu\", \"FR\", \"FR\")\n",
    "fr_green = autocomplete_viz(\"verte\", \"FR\", \"FR\")\n",
    "fr_black = autocomplete_viz(\"noir\", \"FR\", \"FR\")\n",
    "fr_white = autocomplete_viz(\"blanc\", \"FR\", \"FR\")\n",
    "\n",
    "es_pink = autocomplete_viz(\"rosa\", \"ES\", \"ES\")\n",
    "es_blue = autocomplete_viz(\"azul\", \"ES\", \"ES\")\n",
    "es_green = autocomplete_viz(\"verde\", \"ES\", \"ES\")\n",
    "es_black = autocomplete_viz(\"negro\", \"ES\", \"ES\")\n",
    "es_white = autocomplete_viz(\"blanco\", \"ES\", \"ES\")\n",
    "\n",
    "de_pink = autocomplete_viz(\"rosa\", \"DE\", \"DE\")\n",
    "de_blue = autocomplete_viz(\"blau\", \"DE\", \"DE\")\n",
    "de_green = autocomplete_viz(\"grun\", \"DE\", \"DE\")\n",
    "de_black = autocomplete_viz(\"schwarz\", \"DE\", \"DE\")\n",
    "de_white = autocomplete_viz(\"weiß\", \"DE\", \"DE\")\n",
    "\n",
    "it_pink = autocomplete_viz(\"rosa\", \"IT\", \"IT\")\n",
    "it_blue = autocomplete_viz(\"blu\", \"IT\", \"IT\")\n",
    "it_green = autocomplete_viz(\"verde\", \"IT\", \"IT\")\n",
    "it_black = autocomplete_viz(\"nero\", \"IT\", \"IT\")\n",
    "it_white = autocomplete_viz(\"bianco\", \"IT\", \"IT\")\n",
    "\n",
    "au_pink = autocomplete_viz(\"pink\", \"AU\", \"AU\")\n",
    "au_blue = autocomplete_viz(\"blue\", \"AU\", \"AU\")\n",
    "au_green = autocomplete_viz(\"green\", \"AU\", \"AU\")\n",
    "au_black = autocomplete_viz(\"black\", \"AU\", \"AU\")\n",
    "au_white = autocomplete_viz(\"white\", \"AU\", \"AU\")"
   ]
  },
  {
   "cell_type": "code",
   "execution_count": 28,
   "id": "acdb055a",
   "metadata": {},
   "outputs": [
    {
     "data": {
      "text/html": [
       "<div>\n",
       "<style scoped>\n",
       "    .dataframe tbody tr th:only-of-type {\n",
       "        vertical-align: middle;\n",
       "    }\n",
       "\n",
       "    .dataframe tbody tr th {\n",
       "        vertical-align: top;\n",
       "    }\n",
       "\n",
       "    .dataframe thead th {\n",
       "        text-align: right;\n",
       "    }\n",
       "</style>\n",
       "<table border=\"1\" class=\"dataframe\">\n",
       "  <thead>\n",
       "    <tr style=\"text-align: right;\">\n",
       "      <th></th>\n",
       "      <th>Pink</th>\n",
       "      <th>Blue</th>\n",
       "      <th>Green</th>\n",
       "      <th>Black</th>\n",
       "      <th>White</th>\n",
       "    </tr>\n",
       "  </thead>\n",
       "  <tbody>\n",
       "    <tr>\n",
       "      <th>0</th>\n",
       "      <td>23322</td>\n",
       "      <td>19856</td>\n",
       "      <td>30863</td>\n",
       "      <td>15714</td>\n",
       "      <td>21776</td>\n",
       "    </tr>\n",
       "    <tr>\n",
       "      <th>1</th>\n",
       "      <td>28737</td>\n",
       "      <td>16702</td>\n",
       "      <td>13523</td>\n",
       "      <td>20006</td>\n",
       "      <td>15404</td>\n",
       "    </tr>\n",
       "    <tr>\n",
       "      <th>2</th>\n",
       "      <td>23249</td>\n",
       "      <td>7759</td>\n",
       "      <td>10648</td>\n",
       "      <td>17016</td>\n",
       "      <td>15760</td>\n",
       "    </tr>\n",
       "    <tr>\n",
       "      <th>3</th>\n",
       "      <td>14203</td>\n",
       "      <td>19811</td>\n",
       "      <td>18186</td>\n",
       "      <td>4128</td>\n",
       "      <td>1182</td>\n",
       "    </tr>\n",
       "    <tr>\n",
       "      <th>4</th>\n",
       "      <td>28216</td>\n",
       "      <td>33200</td>\n",
       "      <td>19923</td>\n",
       "      <td>19773</td>\n",
       "      <td>19291</td>\n",
       "    </tr>\n",
       "    <tr>\n",
       "      <th>5</th>\n",
       "      <td>16753</td>\n",
       "      <td>24697</td>\n",
       "      <td>14977</td>\n",
       "      <td>15615</td>\n",
       "      <td>13503</td>\n",
       "    </tr>\n",
       "  </tbody>\n",
       "</table>\n",
       "</div>"
      ],
      "text/plain": [
       "    Pink   Blue  Green  Black  White\n",
       "0  23322  19856  30863  15714  21776\n",
       "1  28737  16702  13523  20006  15404\n",
       "2  23249   7759  10648  17016  15760\n",
       "3  14203  19811  18186   4128   1182\n",
       "4  28216  33200  19923  19773  19291\n",
       "5  16753  24697  14977  15615  13503"
      ]
     },
     "execution_count": 28,
     "metadata": {},
     "output_type": "execute_result"
    }
   ],
   "source": [
    "# Creating DataFrame from data generated using autocomplete_viz\n",
    "colors_df = pd.DataFrame({\"Pink\":[us_pink, fr_pink, es_pink, de_pink, it_pink, au_pink], \"Blue\":[us_blue, fr_blue, es_blue, de_blue, it_blue, au_blue], \"Green\":[us_green, fr_green, es_green, de_green, it_green, au_green],\"Black\":[us_black, fr_black, es_black, de_black, it_black, au_black], \"White\":[us_white, fr_white, es_white, de_white, it_white, au_white],})\n",
    "colors_df"
   ]
  },
  {
   "cell_type": "code",
   "execution_count": null,
   "id": "aea2ac9f",
   "metadata": {},
   "outputs": [],
   "source": []
  },
  {
   "cell_type": "code",
   "execution_count": null,
   "id": "b3052d04",
   "metadata": {},
   "outputs": [],
   "source": [
    "# MYINTRA EXTRACTION/CLEANING"
   ]
  },
  {
   "cell_type": "code",
   "execution_count": 29,
   "id": "ffa0cc82",
   "metadata": {},
   "outputs": [
    {
     "data": {
      "text/html": [
       "<div>\n",
       "<style scoped>\n",
       "    .dataframe tbody tr th:only-of-type {\n",
       "        vertical-align: middle;\n",
       "    }\n",
       "\n",
       "    .dataframe tbody tr th {\n",
       "        vertical-align: top;\n",
       "    }\n",
       "\n",
       "    .dataframe thead th {\n",
       "        text-align: right;\n",
       "    }\n",
       "</style>\n",
       "<table border=\"1\" class=\"dataframe\">\n",
       "  <thead>\n",
       "    <tr style=\"text-align: right;\">\n",
       "      <th></th>\n",
       "      <th>ProductID</th>\n",
       "      <th>PrimaryColor</th>\n",
       "    </tr>\n",
       "  </thead>\n",
       "  <tbody>\n",
       "    <tr>\n",
       "      <th>0</th>\n",
       "      <td>10017413</td>\n",
       "      <td>Black</td>\n",
       "    </tr>\n",
       "    <tr>\n",
       "      <th>2</th>\n",
       "      <td>10009781</td>\n",
       "      <td>Pink</td>\n",
       "    </tr>\n",
       "    <tr>\n",
       "      <th>3</th>\n",
       "      <td>10015921</td>\n",
       "      <td>Blue</td>\n",
       "    </tr>\n",
       "    <tr>\n",
       "      <th>4</th>\n",
       "      <td>10017833</td>\n",
       "      <td>White</td>\n",
       "    </tr>\n",
       "    <tr>\n",
       "      <th>6</th>\n",
       "      <td>10017869</td>\n",
       "      <td>Blue</td>\n",
       "    </tr>\n",
       "    <tr>\n",
       "      <th>...</th>\n",
       "      <td>...</td>\n",
       "      <td>...</td>\n",
       "    </tr>\n",
       "    <tr>\n",
       "      <th>12482</th>\n",
       "      <td>10261845</td>\n",
       "      <td>Green</td>\n",
       "    </tr>\n",
       "    <tr>\n",
       "      <th>12484</th>\n",
       "      <td>10265177</td>\n",
       "      <td>Blue</td>\n",
       "    </tr>\n",
       "    <tr>\n",
       "      <th>12486</th>\n",
       "      <td>10262843</td>\n",
       "      <td>Black</td>\n",
       "    </tr>\n",
       "    <tr>\n",
       "      <th>12488</th>\n",
       "      <td>10261607</td>\n",
       "      <td>Blue</td>\n",
       "    </tr>\n",
       "    <tr>\n",
       "      <th>12490</th>\n",
       "      <td>10265199</td>\n",
       "      <td>Black</td>\n",
       "    </tr>\n",
       "  </tbody>\n",
       "</table>\n",
       "<p>7262 rows × 2 columns</p>\n",
       "</div>"
      ],
      "text/plain": [
       "       ProductID PrimaryColor\n",
       "0       10017413        Black\n",
       "2       10009781         Pink\n",
       "3       10015921         Blue\n",
       "4       10017833        White\n",
       "6       10017869         Blue\n",
       "...          ...          ...\n",
       "12482   10261845        Green\n",
       "12484   10265177         Blue\n",
       "12486   10262843        Black\n",
       "12488   10261607         Blue\n",
       "12490   10265199        Black\n",
       "\n",
       "[7262 rows x 2 columns]"
      ]
     },
     "execution_count": 29,
     "metadata": {},
     "output_type": "execute_result"
    }
   ],
   "source": [
    "# Create a DataFrame that is a subset of the original Myntra CSV DataFrame, containing only colors of interest\n",
    "of_interest_scratch = fashion_data[(fashion_data[\"PrimaryColor\"].isin([\" Pink\", \"Blue\", \" Green\", \" Black\", \" White\"]))]\n",
    "of_interest = of_interest_scratch.loc[:,[\"ProductID\", \"PrimaryColor\"]]\n",
    "of_interest"
   ]
  },
  {
   "cell_type": "code",
   "execution_count": 30,
   "id": "166087e8",
   "metadata": {},
   "outputs": [],
   "source": [
    "# Grouping DataFrame by colors\n",
    "csv_color_grouped = of_interest.groupby([\"PrimaryColor\"])"
   ]
  },
  {
   "cell_type": "code",
   "execution_count": 31,
   "id": "cf78db4c",
   "metadata": {},
   "outputs": [
    {
     "data": {
      "text/html": [
       "<div>\n",
       "<style scoped>\n",
       "    .dataframe tbody tr th:only-of-type {\n",
       "        vertical-align: middle;\n",
       "    }\n",
       "\n",
       "    .dataframe tbody tr th {\n",
       "        vertical-align: top;\n",
       "    }\n",
       "\n",
       "    .dataframe thead th {\n",
       "        text-align: right;\n",
       "    }\n",
       "</style>\n",
       "<table border=\"1\" class=\"dataframe\">\n",
       "  <thead>\n",
       "    <tr style=\"text-align: right;\">\n",
       "      <th></th>\n",
       "      <th>ProductID</th>\n",
       "    </tr>\n",
       "    <tr>\n",
       "      <th>PrimaryColor</th>\n",
       "      <th></th>\n",
       "    </tr>\n",
       "  </thead>\n",
       "  <tbody>\n",
       "    <tr>\n",
       "      <th>Black</th>\n",
       "      <td>1640</td>\n",
       "    </tr>\n",
       "    <tr>\n",
       "      <th>Green</th>\n",
       "      <td>908</td>\n",
       "    </tr>\n",
       "    <tr>\n",
       "      <th>Pink</th>\n",
       "      <td>391</td>\n",
       "    </tr>\n",
       "    <tr>\n",
       "      <th>White</th>\n",
       "      <td>880</td>\n",
       "    </tr>\n",
       "    <tr>\n",
       "      <th>Blue</th>\n",
       "      <td>3443</td>\n",
       "    </tr>\n",
       "  </tbody>\n",
       "</table>\n",
       "</div>"
      ],
      "text/plain": [
       "              ProductID\n",
       "PrimaryColor           \n",
       " Black             1640\n",
       " Green              908\n",
       " Pink               391\n",
       " White              880\n",
       "Blue               3443"
      ]
     },
     "execution_count": 31,
     "metadata": {},
     "output_type": "execute_result"
    }
   ],
   "source": [
    "# Group DataFrame by color and get the number of each color type using .count()\n",
    "csv_color_count = csv_color_grouped.count()\n",
    "csv_color_count"
   ]
  },
  {
   "cell_type": "code",
   "execution_count": null,
   "id": "09a870a6",
   "metadata": {},
   "outputs": [],
   "source": []
  },
  {
   "cell_type": "markdown",
   "id": "ec814ab7",
   "metadata": {},
   "source": [
    "Data Visualization"
   ]
  },
  {
   "cell_type": "code",
   "execution_count": null,
   "id": "666c5ddf",
   "metadata": {},
   "outputs": [],
   "source": [
    "# ASOS GRAPHS"
   ]
  },
  {
   "cell_type": "code",
   "execution_count": 32,
   "id": "4a43f355",
   "metadata": {},
   "outputs": [
    {
     "data": {
      "text/plain": [
       "(0.0, 35000.0)"
      ]
     },
     "execution_count": 32,
     "metadata": {},
     "output_type": "execute_result"
    },
    {
     "data": {
      "image/png": "[encoded data removed]",
      "text/plain": [
       "<Figure size 640x480 with 1 Axes>"
      ]
     },
     "metadata": {},
     "output_type": "display_data"
    }
   ],
   "source": [
    "# Plotting the number of results per country for the trend color pink\n",
    "country = [\"United States\", \"France\", \"Spain\", \"Germany\", \"Italy\",\"Australia\"]\n",
    "results = [us_pink, fr_pink, es_pink, de_pink, it_pink, au_pink]\n",
    "plt.barh(country, results, color = \"pink\")\n",
    "plt.title(\"Search Results for Pink\")\n",
    "plt.xlabel(\"Results\")\n",
    "plt.ylabel(\"Country\")\n",
    "plt.xlim(0, 35000)"
   ]
  },
  {
   "cell_type": "code",
   "execution_count": 33,
   "id": "9f394597",
   "metadata": {},
   "outputs": [
    {
     "data": {
      "text/plain": [
       "(0.0, 35000.0)"
      ]
     },
     "execution_count": 33,
     "metadata": {},
     "output_type": "execute_result"
    },
    {
     "data": {
      "image/png": "[encoded data removed]",
      "text/plain": [
       "<Figure size 640x480 with 1 Axes>"
      ]
     },
     "metadata": {},
     "output_type": "display_data"
    }
   ],
   "source": [
    "# Plotting the number of results per country for the trend color blue\n",
    "country = [\"United States\", \"France\", \"Spain\", \"Germany\", \"Italy\",\"Australia\"]\n",
    "results = [us_blue, fr_blue, es_blue, de_blue, it_blue, au_blue]\n",
    "plt.barh(country, results)\n",
    "plt.title(\"Search Results for Blue\")\n",
    "plt.xlabel(\"Results\")\n",
    "plt.ylabel(\"Country\")\n",
    "plt.xlim(0, 35000)"
   ]
  },
  {
   "cell_type": "code",
   "execution_count": 34,
   "id": "ffff9ce5",
   "metadata": {},
   "outputs": [
    {
     "data": {
      "text/plain": [
       "(0.0, 35000.0)"
      ]
     },
     "execution_count": 34,
     "metadata": {},
     "output_type": "execute_result"
    },
    {
     "data": {
      "image/png": "[encoded data removed]",
      "text/plain": [
       "<Figure size 640x480 with 1 Axes>"
      ]
     },
     "metadata": {},
     "output_type": "display_data"
    }
   ],
   "source": [
    "# Plotting the number of results per country for the trend color green\n",
    "country = [\"United States\", \"France\", \"Spain\", \"Germany\", \"Italy\",\"Australia\"]\n",
    "results = [us_green, fr_green, es_green, de_green, it_green, au_green]\n",
    "plt.barh(country, results, color = \"g\")\n",
    "plt.title(\"Search Results for Green\")\n",
    "plt.xlabel(\"Results\")\n",
    "plt.ylabel(\"Country\")\n",
    "plt.xlim(0, 35000)"
   ]
  },
  {
   "cell_type": "code",
   "execution_count": 35,
   "id": "51fd0f6e",
   "metadata": {},
   "outputs": [],
   "source": [
    "#Calculating the mean of each column in the ASOS colors_df DataFRame\n",
    "pink_mean = colors_df[\"Pink\"].mean()\n",
    "blue_mean = colors_df[\"Blue\"].mean()\n",
    "green_mean = colors_df[\"Green\"].mean()\n",
    "black_mean = colors_df[\"Black\"].mean()\n",
    "white_mean = colors_df[\"White\"].mean()"
   ]
  },
  {
   "cell_type": "code",
   "execution_count": 36,
   "id": "5fb42d03",
   "metadata": {},
   "outputs": [
    {
     "data": {
      "text/plain": [
       "Text(0, 0.5, 'Number of Results')"
      ]
     },
     "execution_count": 36,
     "metadata": {},
     "output_type": "execute_result"
    },
    {
     "data": {
      "image/png": "[encoded data removed]",
      "text/plain": [
       "<Figure size 640x480 with 1 Axes>"
      ]
     },
     "metadata": {},
     "output_type": "display_data"
    }
   ],
   "source": [
    "# Plotting the average number of results for each color\n",
    "colors = [\"Blue\", \"Black\", \"Green\", \"White\", \"Pink\"]\n",
    "results = [blue_mean, black_mean, green_mean, white_mean, pink_mean]\n",
    "plt.bar(colors, results)\n",
    "plt.title(\"ASOS: Average Number of Search Results By Color\")\n",
    "plt.xlabel(\"Color\")\n",
    "plt.ylabel(\"Number of Results\")"
   ]
  },
  {
   "cell_type": "code",
   "execution_count": null,
   "id": "261c23d7",
   "metadata": {},
   "outputs": [],
   "source": []
  },
  {
   "cell_type": "code",
   "execution_count": null,
   "id": "75a9b574",
   "metadata": {},
   "outputs": [],
   "source": [
    "# MYINTRA GRAPH"
   ]
  },
  {
   "cell_type": "code",
   "execution_count": 37,
   "id": "563253c6",
   "metadata": {},
   "outputs": [
    {
     "data": {
      "image/png": "[encoded data removed]",
      "text/plain": [
       "<Figure size 600x600 with 1 Axes>"
      ]
     },
     "metadata": {},
     "output_type": "display_data"
    }
   ],
   "source": [
    "# Plot results\n",
    "csv_color_sorted = csv_color_count.sort_values(\"ProductID\", ascending = False)\n",
    "csv_color_graph = csv_color_sorted.plot(kind=\"bar\", y=\"ProductID\", grid=False, figsize=(6,6), xlabel = \"Color\", ylabel = \"Number of Items\",title=\"Myntra: Color vs Number of Items\", legend = False)"
   ]
  },
  {
   "cell_type": "code",
   "execution_count": null,
   "id": "a5404110",
   "metadata": {},
   "outputs": [],
   "source": []
  },
  {
   "cell_type": "markdown",
   "id": "c473dbc1",
   "metadata": {},
   "source": [
    "Data Analysis"
   ]
  },
  {
   "cell_type": "code",
   "execution_count": null,
   "id": "111e5933",
   "metadata": {},
   "outputs": [],
   "source": [
    "# ASOS STATS"
   ]
  },
  {
   "cell_type": "code",
   "execution_count": 38,
   "id": "62bab287",
   "metadata": {
    "scrolled": true
   },
   "outputs": [
    {
     "data": {
      "text/html": [
       "<div>\n",
       "<style scoped>\n",
       "    .dataframe tbody tr th:only-of-type {\n",
       "        vertical-align: middle;\n",
       "    }\n",
       "\n",
       "    .dataframe tbody tr th {\n",
       "        vertical-align: top;\n",
       "    }\n",
       "\n",
       "    .dataframe thead th {\n",
       "        text-align: right;\n",
       "    }\n",
       "</style>\n",
       "<table border=\"1\" class=\"dataframe\">\n",
       "  <thead>\n",
       "    <tr style=\"text-align: right;\">\n",
       "      <th></th>\n",
       "      <th>Pink</th>\n",
       "      <th>Blue</th>\n",
       "      <th>Green</th>\n",
       "      <th>Black</th>\n",
       "      <th>White</th>\n",
       "    </tr>\n",
       "  </thead>\n",
       "  <tbody>\n",
       "    <tr>\n",
       "      <th>mean</th>\n",
       "      <td>2.241333e+04</td>\n",
       "      <td>2.033750e+04</td>\n",
       "      <td>1.802000e+04</td>\n",
       "      <td>1.537533e+04</td>\n",
       "      <td>1.448600e+04</td>\n",
       "    </tr>\n",
       "    <tr>\n",
       "      <th>median</th>\n",
       "      <td>2.328550e+04</td>\n",
       "      <td>1.983350e+04</td>\n",
       "      <td>1.658150e+04</td>\n",
       "      <td>1.636500e+04</td>\n",
       "      <td>1.558200e+04</td>\n",
       "    </tr>\n",
       "    <tr>\n",
       "      <th>var</th>\n",
       "      <td>3.492653e+07</td>\n",
       "      <td>7.127874e+07</td>\n",
       "      <td>5.048417e+07</td>\n",
       "      <td>3.402980e+07</td>\n",
       "      <td>5.133213e+07</td>\n",
       "    </tr>\n",
       "    <tr>\n",
       "      <th>std</th>\n",
       "      <td>5.909867e+03</td>\n",
       "      <td>8.442674e+03</td>\n",
       "      <td>7.105221e+03</td>\n",
       "      <td>5.833506e+03</td>\n",
       "      <td>7.164644e+03</td>\n",
       "    </tr>\n",
       "    <tr>\n",
       "      <th>sem</th>\n",
       "      <td>2.412693e+03</td>\n",
       "      <td>3.446707e+03</td>\n",
       "      <td>2.900694e+03</td>\n",
       "      <td>2.381519e+03</td>\n",
       "      <td>2.924954e+03</td>\n",
       "    </tr>\n",
       "  </tbody>\n",
       "</table>\n",
       "</div>"
      ],
      "text/plain": [
       "                Pink          Blue         Green         Black         White\n",
       "mean    2.241333e+04  2.033750e+04  1.802000e+04  1.537533e+04  1.448600e+04\n",
       "median  2.328550e+04  1.983350e+04  1.658150e+04  1.636500e+04  1.558200e+04\n",
       "var     3.492653e+07  7.127874e+07  5.048417e+07  3.402980e+07  5.133213e+07\n",
       "std     5.909867e+03  8.442674e+03  7.105221e+03  5.833506e+03  7.164644e+03\n",
       "sem     2.412693e+03  3.446707e+03  2.900694e+03  2.381519e+03  2.924954e+03"
      ]
     },
     "execution_count": 38,
     "metadata": {},
     "output_type": "execute_result"
    }
   ],
   "source": [
    "# Calculating Stats for each color in the ASOS colors_agg DataFrame\n",
    "colors_agg = colors_df.agg([\"mean\", \"median\", \"var\", \"std\", \"sem\"])\n",
    "colors_agg"
   ]
  },
  {
   "cell_type": "code",
   "execution_count": 39,
   "id": "3fbc0dd8",
   "metadata": {},
   "outputs": [],
   "source": [
    "# Get the number of items for each color in ASOS colors_df DataFrame and convert to an integer.\n",
    "# Combine all sums to get total number of items in dataframe as integer.\n",
    "asos_pink = int(colors_df[\"Pink\"].sum())\n",
    "asos_blue = int(colors_df[\"Blue\"].sum())\n",
    "asos_green = int(colors_df[\"Green\"].sum())\n",
    "asos_black = int(colors_df[\"Black\"].sum())\n",
    "asos_white = int(colors_df[\"White\"].sum())\n",
    "\n",
    "asos_total = asos_pink + asos_blue + asos_green + asos_black + asos_white"
   ]
  },
  {
   "cell_type": "code",
   "execution_count": 40,
   "id": "622e1410",
   "metadata": {},
   "outputs": [
    {
     "data": {
      "text/plain": [
       "0.2472999836334782"
      ]
     },
     "execution_count": 40,
     "metadata": {},
     "output_type": "execute_result"
    }
   ],
   "source": [
    "# Divide each sum by the total number of items to get the proportion for each color. \n",
    "asos_pink_prop = asos_pink/asos_total\n",
    "asos_blue_prop = asos_blue/asos_total\n",
    "asos_green_prop = asos_green/asos_total\n",
    "asos_black_prop = asos_black/asos_total\n",
    "asos_white_prop = asos_white/asos_total\n",
    "\n",
    "asos_pink_prop"
   ]
  },
  {
   "cell_type": "code",
   "execution_count": null,
   "id": "462d300f",
   "metadata": {},
   "outputs": [],
   "source": []
  },
  {
   "cell_type": "code",
   "execution_count": null,
   "id": "cfaecbf2",
   "metadata": {},
   "outputs": [],
   "source": [
    "# MYINTRA STATS"
   ]
  },
  {
   "cell_type": "code",
   "execution_count": 41,
   "id": "a092fe8c",
   "metadata": {},
   "outputs": [
    {
     "data": {
      "text/html": [
       "<div>\n",
       "<style scoped>\n",
       "    .dataframe tbody tr th:only-of-type {\n",
       "        vertical-align: middle;\n",
       "    }\n",
       "\n",
       "    .dataframe tbody tr th {\n",
       "        vertical-align: top;\n",
       "    }\n",
       "\n",
       "    .dataframe thead tr th {\n",
       "        text-align: left;\n",
       "    }\n",
       "\n",
       "    .dataframe thead tr:last-of-type th {\n",
       "        text-align: right;\n",
       "    }\n",
       "</style>\n",
       "<table border=\"1\" class=\"dataframe\">\n",
       "  <thead>\n",
       "    <tr>\n",
       "      <th></th>\n",
       "      <th colspan=\"5\" halign=\"left\">ProductID</th>\n",
       "    </tr>\n",
       "    <tr>\n",
       "      <th></th>\n",
       "      <th>mean</th>\n",
       "      <th>median</th>\n",
       "      <th>var</th>\n",
       "      <th>std</th>\n",
       "      <th>sem</th>\n",
       "    </tr>\n",
       "    <tr>\n",
       "      <th>PrimaryColor</th>\n",
       "      <th></th>\n",
       "      <th></th>\n",
       "      <th></th>\n",
       "      <th></th>\n",
       "      <th></th>\n",
       "    </tr>\n",
       "  </thead>\n",
       "  <tbody>\n",
       "    <tr>\n",
       "      <th>Black</th>\n",
       "      <td>9.911748e+06</td>\n",
       "      <td>10158165.0</td>\n",
       "      <td>2.162341e+12</td>\n",
       "      <td>1.470490e+06</td>\n",
       "      <td>36311.167822</td>\n",
       "    </tr>\n",
       "    <tr>\n",
       "      <th>Green</th>\n",
       "      <td>1.001413e+07</td>\n",
       "      <td>10158951.0</td>\n",
       "      <td>1.276297e+12</td>\n",
       "      <td>1.129733e+06</td>\n",
       "      <td>37491.506375</td>\n",
       "    </tr>\n",
       "    <tr>\n",
       "      <th>Pink</th>\n",
       "      <td>1.009350e+07</td>\n",
       "      <td>10155715.0</td>\n",
       "      <td>4.318845e+11</td>\n",
       "      <td>6.571792e+05</td>\n",
       "      <td>33234.978819</td>\n",
       "    </tr>\n",
       "    <tr>\n",
       "      <th>White</th>\n",
       "      <td>9.906012e+06</td>\n",
       "      <td>10143877.0</td>\n",
       "      <td>2.131530e+12</td>\n",
       "      <td>1.459976e+06</td>\n",
       "      <td>49215.785107</td>\n",
       "    </tr>\n",
       "    <tr>\n",
       "      <th>Blue</th>\n",
       "      <td>1.005093e+07</td>\n",
       "      <td>10157261.0</td>\n",
       "      <td>9.236371e+11</td>\n",
       "      <td>9.610604e+05</td>\n",
       "      <td>16378.803357</td>\n",
       "    </tr>\n",
       "  </tbody>\n",
       "</table>\n",
       "</div>"
      ],
      "text/plain": [
       "                 ProductID                                          \\\n",
       "                      mean      median           var           std   \n",
       "PrimaryColor                                                         \n",
       " Black        9.911748e+06  10158165.0  2.162341e+12  1.470490e+06   \n",
       " Green        1.001413e+07  10158951.0  1.276297e+12  1.129733e+06   \n",
       " Pink         1.009350e+07  10155715.0  4.318845e+11  6.571792e+05   \n",
       " White        9.906012e+06  10143877.0  2.131530e+12  1.459976e+06   \n",
       "Blue          1.005093e+07  10157261.0  9.236371e+11  9.610604e+05   \n",
       "\n",
       "                            \n",
       "                       sem  \n",
       "PrimaryColor                \n",
       " Black        36311.167822  \n",
       " Green        37491.506375  \n",
       " Pink         33234.978819  \n",
       " White        49215.785107  \n",
       "Blue          16378.803357  "
      ]
     },
     "execution_count": 41,
     "metadata": {},
     "output_type": "execute_result"
    }
   ],
   "source": [
    "# Get stats for each color in above DataFrame\n",
    "csv_colors_agg = csv_color_grouped.agg([\"mean\", \"median\", \"var\", \"std\", \"sem\"])\n",
    "csv_colors_agg"
   ]
  },
  {
   "cell_type": "code",
   "execution_count": 42,
   "id": "ec6b71e3",
   "metadata": {},
   "outputs": [],
   "source": [
    "# Get the number of items for each color in of_interest Myntra DataFrame and convert to an integer.\n",
    "# Combine all sums to get total number of items in dataframe as integer.\n",
    "myntra_pink = int((of_interest[\"PrimaryColor\"] == \" Pink\").sum())\n",
    "myntra_blue = int((of_interest[\"PrimaryColor\"] == \"Blue\").sum())\n",
    "myntra_green = int((of_interest[\"PrimaryColor\"] == \" Green\").sum())\n",
    "myntra_black = int((of_interest[\"PrimaryColor\"] == \" Black\").sum())\n",
    "myntra_white = int((of_interest[\"PrimaryColor\"] == \" White\").sum())\n",
    "\n",
    "myntra_total = myntra_pink + myntra_blue + myntra_green + myntra_black + myntra_white"
   ]
  },
  {
   "cell_type": "code",
   "execution_count": 43,
   "id": "d49e41ae",
   "metadata": {},
   "outputs": [
    {
     "data": {
      "text/plain": [
       "0.0538419168273203"
      ]
     },
     "execution_count": 43,
     "metadata": {},
     "output_type": "execute_result"
    }
   ],
   "source": [
    "# Divide each sum by the total number of items to get the Myntra proportion for each color. \n",
    "myntra_pink_prop = myntra_pink/myntra_total\n",
    "myntra_blue_prop = myntra_blue/myntra_total\n",
    "myntra_green_prop = myntra_green/myntra_total\n",
    "myntra_black_prop = myntra_black/myntra_total\n",
    "myntra_white_prop = myntra_white/myntra_total\n",
    "\n",
    "myntra_pink_prop"
   ]
  },
  {
   "cell_type": "code",
   "execution_count": null,
   "id": "8a2269b1",
   "metadata": {},
   "outputs": [],
   "source": []
  },
  {
   "cell_type": "code",
   "execution_count": null,
   "id": "f076d7a6",
   "metadata": {},
   "outputs": [],
   "source": [
    "# CHI-SQUARED"
   ]
  },
  {
   "cell_type": "code",
   "execution_count": 44,
   "id": "11340e44",
   "metadata": {},
   "outputs": [],
   "source": [
    "# Calculate expected values for chi-squared test by multiplying Myntra color proportions by ASOS total items. \n",
    "pink_expected = (myntra_pink_prop * asos_total)\n",
    "blue_expected = (myntra_blue_prop * asos_total)\n",
    "green_expected = (myntra_green_prop * asos_total)\n",
    "black_expected = (myntra_black_prop * asos_total)\n",
    "white_expected = (myntra_white_prop * asos_total)"
   ]
  },
  {
   "cell_type": "code",
   "execution_count": 45,
   "id": "95635699",
   "metadata": {},
   "outputs": [
    {
     "data": {
      "text/plain": [
       "Power_divergenceResult(statistic=487507.2234290384, pvalue=0.0)"
      ]
     },
     "execution_count": 45,
     "metadata": {},
     "output_type": "execute_result"
    }
   ],
   "source": [
    "# Chi-squared test\n",
    "sig = st.chisquare([asos_pink, asos_blue, asos_green, asos_black, asos_white], f_exp=[pink_expected, blue_expected, green_expected, black_expected, white_expected])\n",
    "sig\n",
    "\n"
   ]
  },
  {
   "cell_type": "code",
   "execution_count": null,
   "id": "092a8a7f",
   "metadata": {},
   "outputs": [],
   "source": []
  }
 ],
 "metadata": {
  "kernelspec": {
   "display_name": "Python 3 (ipykernel)",
   "language": "python",
   "name": "python3"
  },
  "language_info": {
   "codemirror_mode": {
    "name": "ipython",
    "version": 3
   },
   "file_extension": ".py",
   "mimetype": "text/x-python",
   "name": "python",
   "nbconvert_exporter": "python",
   "pygments_lexer": "ipython3",
   "version": "3.10.4"
  }
 },
 "nbformat": 4,
 "nbformat_minor": 5
}
