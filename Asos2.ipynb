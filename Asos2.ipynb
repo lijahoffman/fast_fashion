{
 "cells": [
  {
   "cell_type": "code",
   "execution_count": 1,
   "id": "73835c52-cddb-4f19-b8da-b0111c69e578",
   "metadata": {},
   "outputs": [],
   "source": [
    "from requests import get\n",
    "import matplotlib.pyplot as plt\n",
    "from pprint import pprint\n",
    "import os\n",
    "import csv\n",
    "import pandas as pd"
   ]
  },
  {
   "cell_type": "code",
   "execution_count": 2,
   "id": "ced85bf5-67ad-412f-aa5f-c28a8a2f33b9",
   "metadata": {},
   "outputs": [],
   "source": [
    "url = \"https://asos2.p.rapidapi.com/v2/auto-complete\" #  changes based on route\n",
    "\n",
    "headers = {\n",
    "    \"X-RapidAPI-Key\": \"\",\n",
    "    \"X-RapidAPI-Host\": \"asos2.p.rapidapi.com\"\n",
    "}\n",
    "\n",
    "def autocomplete_viz(search_term, store, country):\n",
    "    querystring = {\"q\": search_term, \"store\": store, \"country\": country}\n",
    "\n",
    "    autocomplete_response = get(url, headers=headers, params=querystring).json()\n",
    "    \n",
    "    suggestions = autocomplete_response[\"suggestionGroups\"][0][\"suggestions\"]\n",
    "\n",
    "    search_terms, number_results = [], []\n",
    "    \n",
    "    for suggestions in suggestions:\n",
    "        search_terms.append(suggestions['searchTerm'])\n",
    "        number_results.append(suggestions['numberOfResults'])\n",
    "    \n",
    "    plt.barh(search_terms, number_results)\n",
    "    \n",
    "    plt.title(\"Results for \" + search_term)\n",
    "    plt.xlabel(\"Results\")\n",
    "     \n",
    "    search_result_df = pd.DataFrame({ \"Search Term\": search_terms,\n",
    "                                     \"Number of Results\": number_results,\n",
    "                                    })\n",
    "    search_result_df.sort_values(\"Number of Results\", ascending=False)\n",
    "    return (search_result_df, plt.barh)\n",
    "        \n",
    "    # print(\"search term:\", search_terms)\n",
    "    # print(\"number of results:\", number_results)\n",
    "                           "
   ]
  },
  {
   "cell_type": "markdown",
   "id": "bfc4bb81-7711-41dc-a19a-58b2062046bc",
   "metadata": {},
   "source": []
  },
  {
   "cell_type": "code",
   "execution_count": 3,
   "id": "80e94cf4-a152-4e2b-9b26-dd98da2f9d17",
   "metadata": {},
   "outputs": [
    {
     "data": {
      "text/plain": [
       "(             Search Term  Number of Results\n",
       " 0        cargo pants men                432\n",
       " 1           mens hoodies               1553\n",
       " 2              men suits               3095\n",
       " 3          mens sweaters               1364\n",
       " 4               nike men               1671\n",
       " 5             mens jeans               2089\n",
       " 6  oversized t shirt men               2845\n",
       " 7           cardigan men                142\n",
       " 8           mens jackets               3626\n",
       " 9     the north face men                394,\n",
       " <function matplotlib.pyplot.barh(y, width, height=0.8, left=None, *, align='center', **kwargs)>)"
      ]
     },
     "execution_count": 3,
     "metadata": {},
     "output_type": "execute_result"
    },
    {
     "data": {
      "image/png": "[encoded data removed]",
      "text/plain": [
       "<Figure size 432x288 with 1 Axes>"
      ]
     },
     "metadata": {
      "needs_background": "light"
     },
     "output_type": "display_data"
    }
   ],
   "source": [
    "autocomplete_viz(\"Men\", \"US\", \"US\")"
   ]
  },
  {
   "cell_type": "code",
   "execution_count": 4,
   "id": "797fe46c-b0dd-462f-aebc-ff6987085a5e",
   "metadata": {},
   "outputs": [
    {
     "data": {
      "text/plain": [
       "(            Search Term  Number of Results\n",
       " 0     cargo pants women                340\n",
       " 1            nike women               2120\n",
       " 2      womens jumpsuits               1457\n",
       " 3  the north face women                411\n",
       " 4     trench coat women                271\n",
       " 5         loafers women                284\n",
       " 6          blazer women               1564\n",
       " 7          adidas women               1052\n",
       " 8       womens sweaters               2796\n",
       " 9        cardigan women               1091,\n",
       " <function matplotlib.pyplot.barh(y, width, height=0.8, left=None, *, align='center', **kwargs)>)"
      ]
     },
     "execution_count": 4,
     "metadata": {},
     "output_type": "execute_result"
    },
    {
     "data": {
      "image/png": "[encoded data removed]",
      "text/plain": [
       "<Figure size 432x288 with 1 Axes>"
      ]
     },
     "metadata": {
      "needs_background": "light"
     },
     "output_type": "display_data"
    }
   ],
   "source": [
    "autocomplete_viz(\"Women\", \"US\", \"US\")"
   ]
  },
  {
   "cell_type": "code",
   "execution_count": 5,
   "id": "993cf79a-36c7-4d9f-954b-43b50ed261a7",
   "metadata": {},
   "outputs": [
    {
     "data": {
      "text/plain": [
       "(                     Search Term  Number of Results\n",
       " 0                 mocassin homme                466\n",
       " 1                chaussure homme               4090\n",
       " 2                     nike homme               2225\n",
       " 3              chaussettes homme               1634\n",
       " 4                 bottines homme                678\n",
       " 5                   bottes homme                520\n",
       " 6                     cuir homme               1607\n",
       " 7  mocassins en cuir pour hommes                218,\n",
       " <function matplotlib.pyplot.barh(y, width, height=0.8, left=None, *, align='center', **kwargs)>)"
      ]
     },
     "execution_count": 5,
     "metadata": {},
     "output_type": "execute_result"
    },
    {
     "data": {
      "image/png": "[encoded data removed]",
      "text/plain": [
       "<Figure size 432x288 with 1 Axes>"
      ]
     },
     "metadata": {
      "needs_background": "light"
     },
     "output_type": "display_data"
    }
   ],
   "source": [
    "autocomplete_viz(\"Hommes\", \"FR\", \"FR\") #France"
   ]
  },
  {
   "cell_type": "markdown",
   "id": "f003c5a8-7fdf-4f3e-860c-5736372f0c94",
   "metadata": {},
   "source": [
    "English translation corresponding to df: moccasin man, Man's shoe, nike man, man tap, men's ankle boots, man boots, leather man, leather loafers for men"
   ]
  },
  {
   "cell_type": "code",
   "execution_count": 6,
   "id": "e3120a58-f381-46f4-8c53-1fb5b3a7f7b5",
   "metadata": {},
   "outputs": [
    {
     "data": {
      "text/plain": [
       "(                  Search Term  Number of Results\n",
       " 0              doudoune femme               1650\n",
       " 1                  pull femme               6794\n",
       " 2             mocassins femme                409\n",
       " 3                bottes femme               1613\n",
       " 4              bottines femme               1068\n",
       " 5                basket femme               3845\n",
       " 6               chemise femme               8414\n",
       " 7            chaussures femme              10854\n",
       " 8           chaussettes femme                836\n",
       " 9  chemisier et blouse femmes               4873,\n",
       " <function matplotlib.pyplot.barh(y, width, height=0.8, left=None, *, align='center', **kwargs)>)"
      ]
     },
     "execution_count": 6,
     "metadata": {},
     "output_type": "execute_result"
    },
    {
     "data": {
      "image/png": "[encoded data removed]",
      "text/plain": [
       "<Figure size 432x288 with 1 Axes>"
      ]
     },
     "metadata": {
      "needs_background": "light"
     },
     "output_type": "display_data"
    }
   ],
   "source": [
    "autocomplete_viz(\"femmes\", \"FR\", \"FR\")"
   ]
  },
  {
   "cell_type": "markdown",
   "id": "d86f33b4-6a56-484c-b718-7ef0ac4c2808",
   "metadata": {},
   "source": [
    "English translation corresponding to df: down jacket woman, women moccasins, woman boots, women ankle boots, basketball woman, woman shirt, down jacket without\n",
    "female sleeve, shoes women, women's slippers, woman socks"
   ]
  },
  {
   "cell_type": "code",
   "execution_count": 7,
   "id": "6735a8dc-58ad-4894-a21f-68bb494ffccd",
   "metadata": {},
   "outputs": [
    {
     "data": {
      "text/plain": [
       "(            Search Term  Number of Results\n",
       " 0            felpa uomo               4529\n",
       " 1  pantaloni cargo uomo                829\n",
       " 2            jeans uomo               5258\n",
       " 3         maglione uomo               3221\n",
       " 4           giacca uomo               7082\n",
       " 5   felpa oversize uomo               1321\n",
       " 6             tuta uomo               1741\n",
       " 7        pantaloni uomo               9800\n",
       " 8          piumino uomo                965\n",
       " 9   varsity jacket uomo                230,\n",
       " <function matplotlib.pyplot.barh(y, width, height=0.8, left=None, *, align='center', **kwargs)>)"
      ]
     },
     "execution_count": 7,
     "metadata": {},
     "output_type": "execute_result"
    },
    {
     "data": {
      "image/png": "[encoded data removed]",
      "text/plain": [
       "<Figure size 432x288 with 1 Axes>"
      ]
     },
     "metadata": {
      "needs_background": "light"
     },
     "output_type": "display_data"
    }
   ],
   "source": [
    "autocomplete_viz(\"uomo\", \"IT\", \"IT\") #Italy"
   ]
  },
  {
   "cell_type": "markdown",
   "id": "d9c4c6c3-75db-415c-949e-c61508c9e2c1",
   "metadata": {},
   "source": [
    "English translation corresponding to df: men's sweatshirt, men's cargo pants, men's jeans, man jacket, men's oversized sweatshirt, man sweater, men's pants, man suit, men's down jacket, varsity jacket man"
   ]
  },
  {
   "cell_type": "code",
   "execution_count": 8,
   "id": "fc4446ed-25dd-440f-9c20-b37aeb7b9e1f",
   "metadata": {},
   "outputs": [
    {
     "data": {
      "text/plain": [
       "(               Search Term  Number of Results\n",
       " 0          mocassini donna                413\n",
       " 1            stivali donna               1589\n",
       " 2  completo tailleur donna              16002\n",
       " 3              felpe donna               3625\n",
       " 4           maglioni donna               6909\n",
       " 5         stivaletti donna                987\n",
       " 6    abito cerimonia donna               5704\n",
       " 7           cappotto donna               7034\n",
       " 8             blazer donna               2854\n",
       " 9            piumino donna               1366,\n",
       " <function matplotlib.pyplot.barh(y, width, height=0.8, left=None, *, align='center', **kwargs)>)"
      ]
     },
     "execution_count": 8,
     "metadata": {},
     "output_type": "execute_result"
    },
    {
     "data": {
      "image/png": "[encoded data removed]",
      "text/plain": [
       "<Figure size 432x288 with 1 Axes>"
      ]
     },
     "metadata": {
      "needs_background": "light"
     },
     "output_type": "display_data"
    }
   ],
   "source": [
    "autocomplete_viz(\"donna\", \"IT\", \"IT\")"
   ]
  },
  {
   "cell_type": "markdown",
   "id": "86e36947-5138-4df6-b361-58d74de05bc9",
   "metadata": {},
   "source": [
    "English translation: women's moccasins, women's boots, full suit woman, women's sweatshirts, women's sweaters, women's ankle boots, woman ceremony dress, women's coat, women's blazer, women's down jacket"
   ]
  },
  {
   "cell_type": "code",
   "execution_count": 9,
   "id": "ce1b6cba-b8f0-4370-aa39-4557d453ff69",
   "metadata": {},
   "outputs": [
    {
     "data": {
      "text/plain": [
       "(               Search Term  Number of Results\n",
       " 0       tommy hilfiger men                  2\n",
       " 1              mens shirts                  1\n",
       " 2             mens tshirts                  1\n",
       " 3        mens under armour                  1\n",
       " 4           mens dungarees                  2\n",
       " 5  short sleeve shirts men                  1\n",
       " 6            mens overalls                  2\n",
       " 7             mens watches                  9\n",
       " 8              t shirt men                  1,\n",
       " <function matplotlib.pyplot.barh(y, width, height=0.8, left=None, *, align='center', **kwargs)>)"
      ]
     },
     "execution_count": 9,
     "metadata": {},
     "output_type": "execute_result"
    },
    {
     "data": {
      "image/png": "[encoded data removed]",
      "text/plain": [
       "<Figure size 432x288 with 1 Axes>"
      ]
     },
     "metadata": {
      "needs_background": "light"
     },
     "output_type": "display_data"
    }
   ],
   "source": [
    "autocomplete_viz(\"Mens\", \"AU\", \"AU\")"
   ]
  },
  {
   "cell_type": "code",
   "execution_count": 10,
   "id": "dadbb973-3505-49fc-84b7-90b4d50dbc63",
   "metadata": {},
   "outputs": [
    {
     "data": {
      "text/plain": [
       "(              Search Term  Number of Results\n",
       " 0             womens nike                  2\n",
       " 1    tommy hilfiger women                  1\n",
       " 2           womens shirts                  7\n",
       " 3         womens sneakers                  2\n",
       " 4      womens new balance                  1\n",
       " 5           womens adidas                  7\n",
       " 6  womens curve plus size                  1\n",
       " 7             womens tops                  1\n",
       " 8            womens pants                  1\n",
       " 9        womens underwear                 26,\n",
       " <function matplotlib.pyplot.barh(y, width, height=0.8, left=None, *, align='center', **kwargs)>)"
      ]
     },
     "execution_count": 10,
     "metadata": {},
     "output_type": "execute_result"
    },
    {
     "data": {
      "image/png": "[encoded data removed]",
      "text/plain": [
       "<Figure size 432x288 with 1 Axes>"
      ]
     },
     "metadata": {
      "needs_background": "light"
     },
     "output_type": "display_data"
    }
   ],
   "source": [
    "autocomplete_viz(\"Womens\", \"AU\", \"AU\")"
   ]
  },
  {
   "cell_type": "code",
   "execution_count": 11,
   "id": "7c7a9f48-cb2c-43bb-973e-0ea806b5490a",
   "metadata": {},
   "outputs": [
    {
     "data": {
      "text/plain": [
       "(                Search Term  Number of Results\n",
       " 0          sudaderas hombre               5498\n",
       " 1  camiseta oversize hombre               4561\n",
       " 2     pantalon cargo hombre                994\n",
       " 3              traje hombre               6089\n",
       " 4            chandal hombre               1356\n",
       " 5          camisetas hombre              28910\n",
       " 6  sudadera oversize hombre               1504\n",
       " 7            joggers hombre               3099\n",
       " 8            camisas hombre               9635\n",
       " 9     the north face hombre                751,\n",
       " <function matplotlib.pyplot.barh(y, width, height=0.8, left=None, *, align='center', **kwargs)>)"
      ]
     },
     "execution_count": 11,
     "metadata": {},
     "output_type": "execute_result"
    },
    {
     "data": {
      "image/png": "[encoded data removed]",
      "text/plain": [
       "<Figure size 432x288 with 1 Axes>"
      ]
     },
     "metadata": {
      "needs_background": "light"
     },
     "output_type": "display_data"
    }
   ],
   "source": [
    "autocomplete_viz(\"Hombre\", \"ES\", \"ES\")"
   ]
  },
  {
   "cell_type": "code",
   "execution_count": 12,
   "id": "4ca241be-7f19-471c-b559-acf23c3adfe9",
   "metadata": {},
   "outputs": [
    {
     "data": {
      "text/plain": [
       "(             Search Term  Number of Results\n",
       " 0     botas cowboy mujer                 62\n",
       " 1        sudaderas mujer               3451\n",
       " 2     mocasines de mujer                384\n",
       " 3           abrigo mujer               6089\n",
       " 4  zapatillas nike mujer                717\n",
       " 5            botas mujer               1555\n",
       " 6           jersey mujer               2226\n",
       " 7            traje mujer               3002\n",
       " 8          botines mujer                544\n",
       " 9          chandal mujer                684,\n",
       " <function matplotlib.pyplot.barh(y, width, height=0.8, left=None, *, align='center', **kwargs)>)"
      ]
     },
     "execution_count": 12,
     "metadata": {},
     "output_type": "execute_result"
    },
    {
     "data": {
      "image/png": "[encoded data removed]",
      "text/plain": [
       "<Figure size 432x288 with 1 Axes>"
      ]
     },
     "metadata": {
      "needs_background": "light"
     },
     "output_type": "display_data"
    }
   ],
   "source": [
    "autocomplete_viz(\"Mujer\", \"ES\", \"ES\")"
   ]
  },
  {
   "cell_type": "code",
   "execution_count": 13,
   "id": "aab52709-760a-4bb3-a8b3-6b3effa42f77",
   "metadata": {},
   "outputs": [
    {
     "data": {
      "text/plain": [
       "(           Search Term  Number of Results\n",
       " 0   winterjacke herren                  4\n",
       " 1         jeans herren                 95\n",
       " 2        hoodie herren                  5\n",
       " 3      pullover herren                  5\n",
       " 4  pufferjacken herren                  3\n",
       " 5         weste herren                  7\n",
       " 6        jacken herren                  3\n",
       " 7         hosen herren                117\n",
       " 8               herren              74426\n",
       " 9        mäntel herren                129,\n",
       " <function matplotlib.pyplot.barh(y, width, height=0.8, left=None, *, align='center', **kwargs)>)"
      ]
     },
     "execution_count": 13,
     "metadata": {},
     "output_type": "execute_result"
    },
    {
     "data": {
      "image/png": "[encoded data removed]",
      "text/plain": [
       "<Figure size 432x288 with 1 Axes>"
      ]
     },
     "metadata": {
      "needs_background": "light"
     },
     "output_type": "display_data"
    }
   ],
   "source": [
    "autocomplete_viz(\"Herren\", \"DE\", \"DE\")"
   ]
  },
  {
   "cell_type": "markdown",
   "id": "c92f6849-7885-4934-a40d-d30c919b6e32",
   "metadata": {},
   "source": [
    "English translation: men's jeans, hoodie men, sweater men, men's puffer jackets, vest men, jackets men, trousers men, Men's, coats men, shirt men"
   ]
  },
  {
   "cell_type": "code",
   "execution_count": 14,
   "id": "a9c38e33-6141-4e15-bdc6-a6d0e4594f48",
   "metadata": {},
   "outputs": [
    {
     "data": {
      "text/plain": [
       "(           Search Term  Number of Results\n",
       " 0                damen             128573\n",
       " 1      oberteile damen                387\n",
       " 2  nike damen pullover                145\n",
       " 3           damen sale               6072,\n",
       " <function matplotlib.pyplot.barh(y, width, height=0.8, left=None, *, align='center', **kwargs)>)"
      ]
     },
     "execution_count": 14,
     "metadata": {},
     "output_type": "execute_result"
    },
    {
     "data": {
      "image/png": "[encoded data removed]",
      "text/plain": [
       "<Figure size 432x288 with 1 Axes>"
      ]
     },
     "metadata": {
      "needs_background": "light"
     },
     "output_type": "display_data"
    }
   ],
   "source": [
    "autocomplete_viz(\"Damen\", \"DE\", \"DE\")"
   ]
  },
  {
   "cell_type": "markdown",
   "id": "7a6e4d5a-18e3-47b8-8e12-60608a29d94d",
   "metadata": {},
   "source": [
    "English translation: ladies, tops ladies, nike women sweater, ladies sale"
   ]
  },
  {
   "cell_type": "code",
   "execution_count": null,
   "id": "008b96bb-89d7-4121-9fbc-57030033a9a5",
   "metadata": {},
   "outputs": [],
   "source": []
  },
  {
   "cell_type": "markdown",
   "id": "c8d792c1-a21a-4ac2-8577-e739b26c993a",
   "metadata": {},
   "source": [
    "READING IN MYNTRA CSV AND DATA PRE-PROCESSING"
   ]
  },
  {
   "cell_type": "code",
   "execution_count": 15,
   "id": "1a4d160a-0074-493c-a1c9-a95129b86887",
   "metadata": {},
   "outputs": [
    {
     "data": {
      "text/html": [
       "<div>\n",
       "<style scoped>\n",
       "    .dataframe tbody tr th:only-of-type {\n",
       "        vertical-align: middle;\n",
       "    }\n",
       "\n",
       "    .dataframe tbody tr th {\n",
       "        vertical-align: top;\n",
       "    }\n",
       "\n",
       "    .dataframe thead th {\n",
       "        text-align: right;\n",
       "    }\n",
       "</style>\n",
       "<table border=\"1\" class=\"dataframe\">\n",
       "  <thead>\n",
       "    <tr style=\"text-align: right;\">\n",
       "      <th></th>\n",
       "      <th>ProductName</th>\n",
       "      <th>ProductBrand</th>\n",
       "      <th>Gender</th>\n",
       "      <th>Price (INR)</th>\n",
       "      <th>Description</th>\n",
       "      <th>PrimaryColor</th>\n",
       "    </tr>\n",
       "  </thead>\n",
       "  <tbody>\n",
       "    <tr>\n",
       "      <th>0</th>\n",
       "      <td>DKNY Unisex Black &amp; Grey Printed Medium Trolle...</td>\n",
       "      <td>DKNY</td>\n",
       "      <td>Unisex</td>\n",
       "      <td>11745</td>\n",
       "      <td>Black and grey printed medium trolley bag, sec...</td>\n",
       "      <td>Black</td>\n",
       "    </tr>\n",
       "    <tr>\n",
       "      <th>1</th>\n",
       "      <td>EthnoVogue Women Beige &amp; Grey Made to Measure ...</td>\n",
       "      <td>EthnoVogue</td>\n",
       "      <td>Women</td>\n",
       "      <td>5810</td>\n",
       "      <td>Beige &amp; Grey made to measure kurta with churid...</td>\n",
       "      <td>Beige</td>\n",
       "    </tr>\n",
       "    <tr>\n",
       "      <th>2</th>\n",
       "      <td>SPYKAR Women Pink Alexa Super Skinny Fit High-...</td>\n",
       "      <td>SPYKAR</td>\n",
       "      <td>Women</td>\n",
       "      <td>899</td>\n",
       "      <td>Pink coloured wash 5-pocket high-rise cropped ...</td>\n",
       "      <td>Pink</td>\n",
       "    </tr>\n",
       "    <tr>\n",
       "      <th>3</th>\n",
       "      <td>Raymond Men Blue Self-Design Single-Breasted B...</td>\n",
       "      <td>Raymond</td>\n",
       "      <td>Men</td>\n",
       "      <td>5599</td>\n",
       "      <td>Blue self-design bandhgala suitBlue self-desig...</td>\n",
       "      <td>Blue</td>\n",
       "    </tr>\n",
       "    <tr>\n",
       "      <th>4</th>\n",
       "      <td>Parx Men Brown &amp; Off-White Slim Fit Printed Ca...</td>\n",
       "      <td>Parx</td>\n",
       "      <td>Men</td>\n",
       "      <td>759</td>\n",
       "      <td>Brown and off-white printed casual shirt, has ...</td>\n",
       "      <td>White</td>\n",
       "    </tr>\n",
       "    <tr>\n",
       "      <th>...</th>\n",
       "      <td>...</td>\n",
       "      <td>...</td>\n",
       "      <td>...</td>\n",
       "      <td>...</td>\n",
       "      <td>...</td>\n",
       "      <td>...</td>\n",
       "    </tr>\n",
       "    <tr>\n",
       "      <th>12486</th>\n",
       "      <td>Pepe Jeans Men Black Hammock Slim Fit Low-Rise...</td>\n",
       "      <td>Pepe Jeans</td>\n",
       "      <td>Men</td>\n",
       "      <td>1299</td>\n",
       "      <td>Black dark wash 5-pocket low-rise jeans, clean...</td>\n",
       "      <td>Black</td>\n",
       "    </tr>\n",
       "    <tr>\n",
       "      <th>12487</th>\n",
       "      <td>Mochi Women Gold-Toned Solid Heels</td>\n",
       "      <td>Mochi</td>\n",
       "      <td>Women</td>\n",
       "      <td>1990</td>\n",
       "      <td>A pair of gold-toned open toe heels, has regul...</td>\n",
       "      <td>Gold</td>\n",
       "    </tr>\n",
       "    <tr>\n",
       "      <th>12488</th>\n",
       "      <td>612 league Girls Navy Blue &amp; White Printed Reg...</td>\n",
       "      <td>612 league</td>\n",
       "      <td>Girls</td>\n",
       "      <td>602</td>\n",
       "      <td>Navy Blue and White printed mid-rise denim sho...</td>\n",
       "      <td>Blue</td>\n",
       "    </tr>\n",
       "    <tr>\n",
       "      <th>12489</th>\n",
       "      <td>Bvlgari Men Aqva Pour Homme Marine Eau de Toil...</td>\n",
       "      <td>Bvlgari</td>\n",
       "      <td>Men</td>\n",
       "      <td>8950</td>\n",
       "      <td>Bvlgari Men Aqva Pour Homme Marine Eau de Toil...</td>\n",
       "      <td>NaN</td>\n",
       "    </tr>\n",
       "    <tr>\n",
       "      <th>12490</th>\n",
       "      <td>Pepe Jeans Men Black &amp; Grey Striped Polo Colla...</td>\n",
       "      <td>Pepe Jeans</td>\n",
       "      <td>Men</td>\n",
       "      <td>799</td>\n",
       "      <td>Black and grey striped T-shirt, has a polo col...</td>\n",
       "      <td>Black</td>\n",
       "    </tr>\n",
       "  </tbody>\n",
       "</table>\n",
       "<p>12491 rows × 6 columns</p>\n",
       "</div>"
      ],
      "text/plain": [
       "                                             ProductName ProductBrand  Gender  \\\n",
       "0      DKNY Unisex Black & Grey Printed Medium Trolle...         DKNY  Unisex   \n",
       "1      EthnoVogue Women Beige & Grey Made to Measure ...   EthnoVogue   Women   \n",
       "2      SPYKAR Women Pink Alexa Super Skinny Fit High-...       SPYKAR   Women   \n",
       "3      Raymond Men Blue Self-Design Single-Breasted B...      Raymond     Men   \n",
       "4      Parx Men Brown & Off-White Slim Fit Printed Ca...         Parx     Men   \n",
       "...                                                  ...          ...     ...   \n",
       "12486  Pepe Jeans Men Black Hammock Slim Fit Low-Rise...   Pepe Jeans     Men   \n",
       "12487                 Mochi Women Gold-Toned Solid Heels        Mochi   Women   \n",
       "12488  612 league Girls Navy Blue & White Printed Reg...   612 league   Girls   \n",
       "12489  Bvlgari Men Aqva Pour Homme Marine Eau de Toil...      Bvlgari     Men   \n",
       "12490  Pepe Jeans Men Black & Grey Striped Polo Colla...   Pepe Jeans     Men   \n",
       "\n",
       "       Price (INR)                                        Description  \\\n",
       "0            11745  Black and grey printed medium trolley bag, sec...   \n",
       "1             5810  Beige & Grey made to measure kurta with churid...   \n",
       "2              899  Pink coloured wash 5-pocket high-rise cropped ...   \n",
       "3             5599  Blue self-design bandhgala suitBlue self-desig...   \n",
       "4              759  Brown and off-white printed casual shirt, has ...   \n",
       "...            ...                                                ...   \n",
       "12486         1299  Black dark wash 5-pocket low-rise jeans, clean...   \n",
       "12487         1990  A pair of gold-toned open toe heels, has regul...   \n",
       "12488          602  Navy Blue and White printed mid-rise denim sho...   \n",
       "12489         8950  Bvlgari Men Aqva Pour Homme Marine Eau de Toil...   \n",
       "12490          799  Black and grey striped T-shirt, has a polo col...   \n",
       "\n",
       "      PrimaryColor  \n",
       "0            Black  \n",
       "1            Beige  \n",
       "2             Pink  \n",
       "3             Blue  \n",
       "4            White  \n",
       "...            ...  \n",
       "12486        Black  \n",
       "12487         Gold  \n",
       "12488         Blue  \n",
       "12489          NaN  \n",
       "12490        Black  \n",
       "\n",
       "[12491 rows x 6 columns]"
      ]
     },
     "execution_count": 15,
     "metadata": {},
     "output_type": "execute_result"
    }
   ],
   "source": [
    "csv_path = \"myntra csv/myntra_products_catalog.csv\"\n",
    "myntra_csv = pd.read_csv(csv_path, encoding=\"utf-8\")\n",
    "myntra_csv.head(20)\n",
    "\n",
    "new_myntra_df = myntra_csv[[\"ProductName\", \"ProductBrand\",\"Gender\", \"Price (INR)\", \"Description\", \"PrimaryColor\"]]\n",
    "new_myntra_df"
   ]
  },
  {
   "cell_type": "code",
   "execution_count": 133,
   "id": "03dfe461-acde-4f91-83c2-d5ad6021db4f",
   "metadata": {},
   "outputs": [
    {
     "data": {
      "text/plain": [
       "Women          5126\n",
       "Men            4591\n",
       "Unisex         1188\n",
       "Boys           1100\n",
       "Girls           440\n",
       "Unisex Kids      46\n",
       "Name: Gender, dtype: int64"
      ]
     },
     "execution_count": 133,
     "metadata": {},
     "output_type": "execute_result"
    }
   ],
   "source": [
    "new_myntra_df[\"Gender\"].value_counts()"
   ]
  },
  {
   "cell_type": "markdown",
   "id": "c9e94c52-9e4a-4384-85a8-b1197989956e",
   "metadata": {},
   "source": [
    "FURTHER DATA CLEANUP"
   ]
  },
  {
   "cell_type": "code",
   "execution_count": 17,
   "id": "0bf720be-fb91-4182-9f0a-21e891a6fd97",
   "metadata": {},
   "outputs": [
    {
     "data": {
      "text/html": [
       "<div>\n",
       "<style scoped>\n",
       "    .dataframe tbody tr th:only-of-type {\n",
       "        vertical-align: middle;\n",
       "    }\n",
       "\n",
       "    .dataframe tbody tr th {\n",
       "        vertical-align: top;\n",
       "    }\n",
       "\n",
       "    .dataframe thead th {\n",
       "        text-align: right;\n",
       "    }\n",
       "</style>\n",
       "<table border=\"1\" class=\"dataframe\">\n",
       "  <thead>\n",
       "    <tr style=\"text-align: right;\">\n",
       "      <th></th>\n",
       "      <th>ProductName</th>\n",
       "      <th>ProductBrand</th>\n",
       "      <th>Gender</th>\n",
       "      <th>Price (INR)</th>\n",
       "      <th>Description</th>\n",
       "      <th>PrimaryColor</th>\n",
       "    </tr>\n",
       "  </thead>\n",
       "  <tbody>\n",
       "    <tr>\n",
       "      <th>1</th>\n",
       "      <td>EthnoVogue Women Beige &amp; Grey Made to Measure ...</td>\n",
       "      <td>EthnoVogue</td>\n",
       "      <td>Women</td>\n",
       "      <td>5810</td>\n",
       "      <td>Beige &amp; Grey made to measure kurta with churid...</td>\n",
       "      <td>Beige</td>\n",
       "    </tr>\n",
       "    <tr>\n",
       "      <th>2</th>\n",
       "      <td>SPYKAR Women Pink Alexa Super Skinny Fit High-...</td>\n",
       "      <td>SPYKAR</td>\n",
       "      <td>Women</td>\n",
       "      <td>899</td>\n",
       "      <td>Pink coloured wash 5-pocket high-rise cropped ...</td>\n",
       "      <td>Pink</td>\n",
       "    </tr>\n",
       "    <tr>\n",
       "      <th>3</th>\n",
       "      <td>Raymond Men Blue Self-Design Single-Breasted B...</td>\n",
       "      <td>Raymond</td>\n",
       "      <td>Men</td>\n",
       "      <td>5599</td>\n",
       "      <td>Blue self-design bandhgala suitBlue self-desig...</td>\n",
       "      <td>Blue</td>\n",
       "    </tr>\n",
       "    <tr>\n",
       "      <th>4</th>\n",
       "      <td>Parx Men Brown &amp; Off-White Slim Fit Printed Ca...</td>\n",
       "      <td>Parx</td>\n",
       "      <td>Men</td>\n",
       "      <td>759</td>\n",
       "      <td>Brown and off-white printed casual shirt, has ...</td>\n",
       "      <td>White</td>\n",
       "    </tr>\n",
       "    <tr>\n",
       "      <th>5</th>\n",
       "      <td>SHOWOFF Men Brown Solid Slim Fit Regular Shorts</td>\n",
       "      <td>SHOWOFF</td>\n",
       "      <td>Men</td>\n",
       "      <td>791</td>\n",
       "      <td>Brown solid low-rise regular shorts, has four ...</td>\n",
       "      <td>Brown</td>\n",
       "    </tr>\n",
       "    <tr>\n",
       "      <th>...</th>\n",
       "      <td>...</td>\n",
       "      <td>...</td>\n",
       "      <td>...</td>\n",
       "      <td>...</td>\n",
       "      <td>...</td>\n",
       "      <td>...</td>\n",
       "    </tr>\n",
       "    <tr>\n",
       "      <th>12486</th>\n",
       "      <td>Pepe Jeans Men Black Hammock Slim Fit Low-Rise...</td>\n",
       "      <td>Pepe Jeans</td>\n",
       "      <td>Men</td>\n",
       "      <td>1299</td>\n",
       "      <td>Black dark wash 5-pocket low-rise jeans, clean...</td>\n",
       "      <td>Black</td>\n",
       "    </tr>\n",
       "    <tr>\n",
       "      <th>12487</th>\n",
       "      <td>Mochi Women Gold-Toned Solid Heels</td>\n",
       "      <td>Mochi</td>\n",
       "      <td>Women</td>\n",
       "      <td>1990</td>\n",
       "      <td>A pair of gold-toned open toe heels, has regul...</td>\n",
       "      <td>Gold</td>\n",
       "    </tr>\n",
       "    <tr>\n",
       "      <th>12488</th>\n",
       "      <td>612 league Girls Navy Blue &amp; White Printed Reg...</td>\n",
       "      <td>612 league</td>\n",
       "      <td>Girls</td>\n",
       "      <td>602</td>\n",
       "      <td>Navy Blue and White printed mid-rise denim sho...</td>\n",
       "      <td>Blue</td>\n",
       "    </tr>\n",
       "    <tr>\n",
       "      <th>12489</th>\n",
       "      <td>Bvlgari Men Aqva Pour Homme Marine Eau de Toil...</td>\n",
       "      <td>Bvlgari</td>\n",
       "      <td>Men</td>\n",
       "      <td>8950</td>\n",
       "      <td>Bvlgari Men Aqva Pour Homme Marine Eau de Toil...</td>\n",
       "      <td>NaN</td>\n",
       "    </tr>\n",
       "    <tr>\n",
       "      <th>12490</th>\n",
       "      <td>Pepe Jeans Men Black &amp; Grey Striped Polo Colla...</td>\n",
       "      <td>Pepe Jeans</td>\n",
       "      <td>Men</td>\n",
       "      <td>799</td>\n",
       "      <td>Black and grey striped T-shirt, has a polo col...</td>\n",
       "      <td>Black</td>\n",
       "    </tr>\n",
       "  </tbody>\n",
       "</table>\n",
       "<p>11257 rows × 6 columns</p>\n",
       "</div>"
      ],
      "text/plain": [
       "                                             ProductName ProductBrand Gender  \\\n",
       "1      EthnoVogue Women Beige & Grey Made to Measure ...   EthnoVogue  Women   \n",
       "2      SPYKAR Women Pink Alexa Super Skinny Fit High-...       SPYKAR  Women   \n",
       "3      Raymond Men Blue Self-Design Single-Breasted B...      Raymond    Men   \n",
       "4      Parx Men Brown & Off-White Slim Fit Printed Ca...         Parx    Men   \n",
       "5        SHOWOFF Men Brown Solid Slim Fit Regular Shorts      SHOWOFF    Men   \n",
       "...                                                  ...          ...    ...   \n",
       "12486  Pepe Jeans Men Black Hammock Slim Fit Low-Rise...   Pepe Jeans    Men   \n",
       "12487                 Mochi Women Gold-Toned Solid Heels        Mochi  Women   \n",
       "12488  612 league Girls Navy Blue & White Printed Reg...   612 league  Girls   \n",
       "12489  Bvlgari Men Aqva Pour Homme Marine Eau de Toil...      Bvlgari    Men   \n",
       "12490  Pepe Jeans Men Black & Grey Striped Polo Colla...   Pepe Jeans    Men   \n",
       "\n",
       "       Price (INR)                                        Description  \\\n",
       "1             5810  Beige & Grey made to measure kurta with churid...   \n",
       "2              899  Pink coloured wash 5-pocket high-rise cropped ...   \n",
       "3             5599  Blue self-design bandhgala suitBlue self-desig...   \n",
       "4              759  Brown and off-white printed casual shirt, has ...   \n",
       "5              791  Brown solid low-rise regular shorts, has four ...   \n",
       "...            ...                                                ...   \n",
       "12486         1299  Black dark wash 5-pocket low-rise jeans, clean...   \n",
       "12487         1990  A pair of gold-toned open toe heels, has regul...   \n",
       "12488          602  Navy Blue and White printed mid-rise denim sho...   \n",
       "12489         8950  Bvlgari Men Aqva Pour Homme Marine Eau de Toil...   \n",
       "12490          799  Black and grey striped T-shirt, has a polo col...   \n",
       "\n",
       "      PrimaryColor  \n",
       "1            Beige  \n",
       "2             Pink  \n",
       "3             Blue  \n",
       "4            White  \n",
       "5            Brown  \n",
       "...            ...  \n",
       "12486        Black  \n",
       "12487         Gold  \n",
       "12488         Blue  \n",
       "12489          NaN  \n",
       "12490        Black  \n",
       "\n",
       "[11257 rows x 6 columns]"
      ]
     },
     "execution_count": 17,
     "metadata": {},
     "output_type": "execute_result"
    }
   ],
   "source": [
    "men_women_df = new_myntra_df.replace({'Boys': 'Men' , 'Girls': 'Women'}) #Keeping dataset intact but disregarding distinction between adults and children\n",
    "men_women_df = new_myntra_df[(new_myntra_df[\"Gender\"]!='Unisex Kids') & (new_myntra_df[\"Gender\"]!='Unisex')] #We do not know which gender bought 'product name'\n",
    "men_women_df"
   ]
  },
  {
   "cell_type": "code",
   "execution_count": 112,
   "id": "fc3ebb36-767c-4c9d-95ff-66b19703cffb",
   "metadata": {},
   "outputs": [
    {
     "data": {
      "text/plain": [
       "<AxesSubplot:xlabel='ProductBrand', ylabel='Price (INR)'>"
      ]
     },
     "execution_count": 112,
     "metadata": {},
     "output_type": "execute_result"
    },
    {
     "data": {
      "image/png": "[encoded data removed]",
      "text/plain": [
       "<Figure size 1440x288 with 1 Axes>"
      ]
     },
     "metadata": {
      "needs_background": "light"
     },
     "output_type": "display_data"
    }
   ],
   "source": [
    "#Top 25 brands for men and women (compound bar chart)\n",
    "plt.figure(figsize=(20,4))\n",
    "plt.ylabel('Price (INR)')\n",
    "top_brand_df = men_women_df.groupby('ProductBrand')['Price (INR)'].mean().sort_values(ascending=False).head(25)\n",
    "top_brand_df.plot.bar()"
   ]
  },
  {
   "cell_type": "code",
   "execution_count": 113,
   "id": "52a3acd4-5272-431c-84df-42aba30927fd",
   "metadata": {},
   "outputs": [],
   "source": [
    "# Empty Lists to Hold All of the Men's & Women's Brands, respectively\n",
    "mens_brands = []\n",
    "womens_brands = [] \n",
    "\n",
    "# Loop Through Entire DataFrame\n",
    "for x in range(len(men_women_df)):\n",
    "    \n",
    "    # Check if the row of data is Men's Data\n",
    "    if men_women_df[\"Gender\"][x] == \"Men\":\n",
    "        \n",
    "        # Add it to men's list\n",
    "        mens_brands.append(men_women_df[\"ProductBrand\"][x])\n",
    "    \n",
    "    # Check if the row of data is Women's data\n",
    "    elif men_women_df[\"Gender\"][x] == \"Women\":\n",
    "        \n",
    "        # Add it to the women's list\n",
    "        womens_brands.append(men_women_df[\"ProductBrand\"][x])\n",
    "        \n",
    "# Get a Unique list of men's brands        \n",
    "mens_brands = set(mens_brands)\n",
    "\n",
    "# Get a Unique list of women's brands        \n",
    "womens_brands = set(womens_brands)\n",
    "\n",
    "# Check if there are any brands that are in both men's and women's catergory\n",
    "if len(mens_brands.intersection(womens_brands)) > 0:\n",
    "    \n",
    "    # Create a list of the brands that are not mutually exclusive\n",
    "    both = list((mens_brands.intersection(womens_brands)))"
   ]
  },
  {
   "cell_type": "code",
   "execution_count": 114,
   "id": "8b75a31d-d485-459f-a715-d6a78f0e25b3",
   "metadata": {},
   "outputs": [],
   "source": [
    "# Empty Dictionaries to hold the name and count of brands by sex\n",
    "men_dict = {}\n",
    "women_dict = {}\n",
    "\n",
    "\n",
    "# Loop Through dataframe\n",
    "for x in range(len(men_women_df)):\n",
    "    \n",
    "    # check if row of data is men's data\n",
    "    if men_women_df[\"Gender\"][x] == \"Men\":\n",
    "        \n",
    "        # Check if the brand is in the \"both\" list\n",
    "        if men_women_df[\"ProductBrand\"][x] in both:\n",
    "            \n",
    "            # Check if the brand hasn't been added to the dictionary\n",
    "            if men_women_df[\"ProductBrand\"][x] not in men_dict:\n",
    "                \n",
    "                # add it to the dictionary\n",
    "                men_dict[men_women_df[\"ProductBrand\"][x]] = 1\n",
    "                \n",
    "            # Check if the brand has been added to the dictionary\n",
    "            elif men_women_df[\"ProductBrand\"][x] in men_dict:\n",
    "                \n",
    "                # increment the list value by one\n",
    "                men_dict[men_women_df[\"ProductBrand\"][x]] += 1\n",
    "                \n",
    "    # check if row of data is women's data         \n",
    "    if men_women_df[\"Gender\"][x] == \"Women\":\n",
    "        \n",
    "        # Check if the brand is in the \"both\" list\n",
    "        if men_women_df[\"ProductBrand\"][x] in both:\n",
    "            \n",
    "            # Check if the brand hasn't been added to the dictionary\n",
    "            if men_women_df[\"ProductBrand\"][x] not in women_dict:\n",
    "                \n",
    "                # add it to the dictionary\n",
    "                women_dict[men_women_df[\"ProductBrand\"][x]] = 1\n",
    "                \n",
    "            # Check if the brand has been added to the dictionary\n",
    "            elif men_women_df[\"ProductBrand\"][x] in women_dict:\n",
    "                \n",
    "                # increment the list value by one\n",
    "                women_dict[men_women_df[\"ProductBrand\"][x]] += 1"
   ]
  },
  {
   "cell_type": "code",
   "execution_count": 115,
   "id": "1f9ad28c-bbbd-4a13-9b1f-56faf03ab92e",
   "metadata": {},
   "outputs": [
    {
     "data": {
      "text/plain": [
       "1"
      ]
     },
     "execution_count": 115,
     "metadata": {},
     "output_type": "execute_result"
    }
   ],
   "source": [
    "women_dict[\"Police\"]"
   ]
  },
  {
   "cell_type": "code",
   "execution_count": 116,
   "id": "efc7335f-6d73-480d-bf1c-92e91935f6f1",
   "metadata": {},
   "outputs": [
    {
     "data": {
      "text/html": [
       "<div>\n",
       "<style scoped>\n",
       "    .dataframe tbody tr th:only-of-type {\n",
       "        vertical-align: middle;\n",
       "    }\n",
       "\n",
       "    .dataframe tbody tr th {\n",
       "        vertical-align: top;\n",
       "    }\n",
       "\n",
       "    .dataframe thead th {\n",
       "        text-align: right;\n",
       "    }\n",
       "</style>\n",
       "<table border=\"1\" class=\"dataframe\">\n",
       "  <thead>\n",
       "    <tr style=\"text-align: right;\">\n",
       "      <th></th>\n",
       "      <th>Brand</th>\n",
       "      <th>Men</th>\n",
       "      <th>Women</th>\n",
       "    </tr>\n",
       "  </thead>\n",
       "  <tbody>\n",
       "    <tr>\n",
       "      <th>0</th>\n",
       "      <td>Police</td>\n",
       "      <td>3</td>\n",
       "      <td>1</td>\n",
       "    </tr>\n",
       "    <tr>\n",
       "      <th>1</th>\n",
       "      <td>Michael Kors</td>\n",
       "      <td>4</td>\n",
       "      <td>7</td>\n",
       "    </tr>\n",
       "    <tr>\n",
       "      <th>2</th>\n",
       "      <td>Campus Sutra</td>\n",
       "      <td>35</td>\n",
       "      <td>1</td>\n",
       "    </tr>\n",
       "    <tr>\n",
       "      <th>3</th>\n",
       "      <td>AIGNER</td>\n",
       "      <td>4</td>\n",
       "      <td>3</td>\n",
       "    </tr>\n",
       "    <tr>\n",
       "      <th>4</th>\n",
       "      <td>HARBORNBAY</td>\n",
       "      <td>1</td>\n",
       "      <td>2</td>\n",
       "    </tr>\n",
       "    <tr>\n",
       "      <th>...</th>\n",
       "      <td>...</td>\n",
       "      <td>...</td>\n",
       "      <td>...</td>\n",
       "    </tr>\n",
       "    <tr>\n",
       "      <th>69</th>\n",
       "      <td>Metro</td>\n",
       "      <td>3</td>\n",
       "      <td>30</td>\n",
       "    </tr>\n",
       "    <tr>\n",
       "      <th>70</th>\n",
       "      <td>INVU</td>\n",
       "      <td>3</td>\n",
       "      <td>1</td>\n",
       "    </tr>\n",
       "    <tr>\n",
       "      <th>71</th>\n",
       "      <td>ESPRIT</td>\n",
       "      <td>1</td>\n",
       "      <td>1</td>\n",
       "    </tr>\n",
       "    <tr>\n",
       "      <th>72</th>\n",
       "      <td>Russell Athletic</td>\n",
       "      <td>1</td>\n",
       "      <td>5</td>\n",
       "    </tr>\n",
       "    <tr>\n",
       "      <th>73</th>\n",
       "      <td>GUESS</td>\n",
       "      <td>1</td>\n",
       "      <td>4</td>\n",
       "    </tr>\n",
       "  </tbody>\n",
       "</table>\n",
       "<p>74 rows × 3 columns</p>\n",
       "</div>"
      ],
      "text/plain": [
       "               Brand  Men  Women\n",
       "0             Police    3      1\n",
       "1       Michael Kors    4      7\n",
       "2       Campus Sutra   35      1\n",
       "3             AIGNER    4      3\n",
       "4         HARBORNBAY    1      2\n",
       "..               ...  ...    ...\n",
       "69             Metro    3     30\n",
       "70              INVU    3      1\n",
       "71            ESPRIT    1      1\n",
       "72  Russell Athletic    1      5\n",
       "73             GUESS    1      4\n",
       "\n",
       "[74 rows x 3 columns]"
      ]
     },
     "execution_count": 116,
     "metadata": {},
     "output_type": "execute_result"
    }
   ],
   "source": [
    "bar_brand_data = pd.DataFrame.from_dict([men_dict, women_dict]).T\n",
    "\n",
    "\n",
    "bar_brand_data = bar_brand_data.reset_index()\n",
    "\n",
    "bar_brand_data.columns = [\"Brand\", \"Men\", \"Women\"]\n",
    "\n",
    "bar_brand_data"
   ]
  },
  {
   "cell_type": "code",
   "execution_count": 117,
   "id": "d3cea22e-0c7a-4b7f-bd25-2ce950335178",
   "metadata": {},
   "outputs": [],
   "source": [
    "most_pop_men = list(bar_brand_data[\"Men\"].sort_values().tail(4).keys())"
   ]
  },
  {
   "cell_type": "code",
   "execution_count": 118,
   "id": "b1b9f94f-2edd-446c-9cf2-08a7a99d66fe",
   "metadata": {
    "tags": []
   },
   "outputs": [
    {
     "data": {
      "text/html": [
       "<div>\n",
       "<style scoped>\n",
       "    .dataframe tbody tr th:only-of-type {\n",
       "        vertical-align: middle;\n",
       "    }\n",
       "\n",
       "    .dataframe tbody tr th {\n",
       "        vertical-align: top;\n",
       "    }\n",
       "\n",
       "    .dataframe thead th {\n",
       "        text-align: right;\n",
       "    }\n",
       "</style>\n",
       "<table border=\"1\" class=\"dataframe\">\n",
       "  <thead>\n",
       "    <tr style=\"text-align: right;\">\n",
       "      <th></th>\n",
       "      <th>Brand</th>\n",
       "      <th>Men</th>\n",
       "      <th>Women</th>\n",
       "    </tr>\n",
       "  </thead>\n",
       "  <tbody>\n",
       "    <tr>\n",
       "      <th>0</th>\n",
       "      <td>Roadster</td>\n",
       "      <td>114</td>\n",
       "      <td>108</td>\n",
       "    </tr>\n",
       "    <tr>\n",
       "      <th>1</th>\n",
       "      <td>Park Avenue</td>\n",
       "      <td>151</td>\n",
       "      <td>22</td>\n",
       "    </tr>\n",
       "    <tr>\n",
       "      <th>2</th>\n",
       "      <td>Flying Machine</td>\n",
       "      <td>162</td>\n",
       "      <td>23</td>\n",
       "    </tr>\n",
       "    <tr>\n",
       "      <th>3</th>\n",
       "      <td>Puma</td>\n",
       "      <td>167</td>\n",
       "      <td>34</td>\n",
       "    </tr>\n",
       "    <tr>\n",
       "      <th>4</th>\n",
       "      <td>GIORDANO</td>\n",
       "      <td>11</td>\n",
       "      <td>50</td>\n",
       "    </tr>\n",
       "    <tr>\n",
       "      <th>5</th>\n",
       "      <td>Mast &amp; Harbour</td>\n",
       "      <td>33</td>\n",
       "      <td>58</td>\n",
       "    </tr>\n",
       "    <tr>\n",
       "      <th>6</th>\n",
       "      <td>Roadster</td>\n",
       "      <td>114</td>\n",
       "      <td>108</td>\n",
       "    </tr>\n",
       "    <tr>\n",
       "      <th>7</th>\n",
       "      <td>HERE&amp;NOW</td>\n",
       "      <td>46</td>\n",
       "      <td>118</td>\n",
       "    </tr>\n",
       "  </tbody>\n",
       "</table>\n",
       "</div>"
      ],
      "text/plain": [
       "            Brand  Men  Women\n",
       "0        Roadster  114    108\n",
       "1     Park Avenue  151     22\n",
       "2  Flying Machine  162     23\n",
       "3            Puma  167     34\n",
       "4        GIORDANO   11     50\n",
       "5  Mast & Harbour   33     58\n",
       "6        Roadster  114    108\n",
       "7        HERE&NOW   46    118"
      ]
     },
     "execution_count": 118,
     "metadata": {},
     "output_type": "execute_result"
    }
   ],
   "source": [
    "most_pop_women = list(bar_brand_data[\"Women\"].sort_values().tail(4).keys())\n",
    "\n",
    "most_pop = most_pop_men + most_pop_women\n",
    "\n",
    "bar_brand_data = bar_brand_data.iloc[most_pop].reset_index(drop=True)\n",
    "bar_brand_data"
   ]
  },
  {
   "cell_type": "code",
   "execution_count": 136,
   "id": "ebf1f9ea-6ed0-4631-8d0e-a85681d42a1c",
   "metadata": {},
   "outputs": [
    {
     "data": {
      "image/png": "[encoded data removed]",
      "text/plain": [
       "<Figure size 432x288 with 1 Axes>"
      ]
     },
     "metadata": {
      "needs_background": "light"
     },
     "output_type": "display_data"
    }
   ],
   "source": [
    "#Want to create side by side  bar chart with index gender for top 8 brands \n",
    "# plt.figure(figsize=(20,4))\n",
    "fig,ax=plt.subplots()\n",
    "bar_brand_data.plot.bar(rot=45,ax=ax)\n",
    "plt.xlabel('Brand')\n",
    "plt.ylabel('Count')\n",
    "ax.legend(['Men', 'Women'])\n",
    "ax.set_xticklabels(bar_brand_data['Brand']);"
   ]
  },
  {
   "cell_type": "code",
   "execution_count": 132,
   "id": "9bfe18d6-98e8-40e2-b3af-ccefe61d9ba9",
   "metadata": {},
   "outputs": [
    {
     "data": {
      "text/plain": [
       "<AxesSubplot:xlabel='Gender', ylabel='Price(INR)'>"
      ]
     },
     "execution_count": 132,
     "metadata": {},
     "output_type": "execute_result"
    },
    {
     "data": {
      "image/png": "[encoded data removed]",
      "text/plain": [
       "<Figure size 432x288 with 1 Axes>"
      ]
     },
     "metadata": {
      "needs_background": "light"
     },
     "output_type": "display_data"
    }
   ],
   "source": [
    "plt.ylabel('Price(INR)')\n",
    "gender_purchases = men_women_df.groupby(\"Gender\")[\"Price (INR)\"].mean()\n",
    "gender_purchases.plot.bar()"
   ]
  },
  {
   "cell_type": "markdown",
   "id": "59666646-4218-431b-a55d-5d9e8040943b",
   "metadata": {},
   "source": [
    "We can see from the above graph that either men purchase more items or purchase more expensive items than women."
   ]
  },
  {
   "cell_type": "code",
   "execution_count": null,
   "id": "b25edfa0-195f-4793-901e-489cde83eaa4",
   "metadata": {},
   "outputs": [],
   "source": []
  },
  {
   "cell_type": "code",
   "execution_count": null,
   "id": "8d3f8df2-14f1-422d-8b25-de52608e1776",
   "metadata": {},
   "outputs": [],
   "source": []
  }
 ],
 "metadata": {
  "kernelspec": {
   "display_name": "Python 3 (ipykernel)",
   "language": "python",
   "name": "python3"
  },
  "language_info": {
   "codemirror_mode": {
    "name": "ipython",
    "version": 3
   },
   "file_extension": ".py",
   "mimetype": "text/x-python",
   "name": "python",
   "nbconvert_exporter": "python",
   "pygments_lexer": "ipython3",
   "version": "3.9.12"
  },
  "toc-autonumbering": false,
  "toc-showmarkdowntxt": true
 },
 "nbformat": 4,
 "nbformat_minor": 5
}
